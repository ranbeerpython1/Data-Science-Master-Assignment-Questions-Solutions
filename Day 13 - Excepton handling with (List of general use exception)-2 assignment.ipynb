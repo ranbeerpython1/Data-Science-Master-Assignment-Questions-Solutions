{
 "cells": [
  {
   "cell_type": "code",
   "execution_count": 2,
   "id": "f07afeb8",
   "metadata": {},
   "outputs": [
    {
     "data": {
      "text/plain": [
       "'Q1. Explain why we have to use the Exception class while creating a Custom Exception.\\n Note: Here Exception class refers to the base class for all the exceptions.'"
      ]
     },
     "execution_count": 2,
     "metadata": {},
     "output_type": "execute_result"
    }
   ],
   "source": [
    "'''Q1. Explain why we have to use the Exception class while creating a Custom Exception.\n",
    " Note: Here Exception class refers to the base class for all the exceptions.'''"
   ]
  },
  {
   "cell_type": "code",
   "execution_count": 8,
   "id": "23b15372",
   "metadata": {},
   "outputs": [
    {
     "data": {
      "text/plain": [
       "'In Python, the Exception class serves as the base class for all exceptions. When we create a custom exception, we usually inherit from the Exception class to create our own exception class.'"
      ]
     },
     "execution_count": 8,
     "metadata": {},
     "output_type": "execute_result"
    }
   ],
   "source": [
    "'''In Python, the Exception class serves as the base class for all exceptions. When we create a custom exception, we usually inherit from the Exception class to create our own exception class.'''"
   ]
  },
  {
   "cell_type": "code",
   "execution_count": 11,
   "id": "88af7aa9",
   "metadata": {},
   "outputs": [
    {
     "data": {
      "text/plain": [
       "'Inheriting from the Exception class ensures that our custom exception class is consistent with the existing exceptions in Python, and it also provides access to useful methods and attributes such as __str__ and args.'"
      ]
     },
     "execution_count": 11,
     "metadata": {},
     "output_type": "execute_result"
    }
   ],
   "source": [
    "# We use the Exception class as the base class for custom exceptions for two main reasons:\n",
    "'''Inheriting from the Exception class ensures that our custom exception class is consistent with the existing exceptions in Python, and it also provides access to useful methods and attributes such as __str__ and args.'''"
   ]
  },
  {
   "cell_type": "code",
   "execution_count": 12,
   "id": "b4bd4ca0",
   "metadata": {},
   "outputs": [
    {
     "data": {
      "text/plain": [
       "\"Python's built-in exception handling mechanism is designed to work with classes that inherit from Exception, so using a custom exception class that inherits from Exception ensures that our custom exceptions can be handled in the same way as the built-in exceptions.\""
      ]
     },
     "execution_count": 12,
     "metadata": {},
     "output_type": "execute_result"
    }
   ],
   "source": [
    "'''Python's built-in exception handling mechanism is designed to work with classes that inherit from Exception, so using a custom exception class that inherits from Exception ensures that our custom exceptions can be handled in the same way as the built-in exceptions.'''"
   ]
  },
  {
   "cell_type": "code",
   "execution_count": 10,
   "id": "56b046b7",
   "metadata": {},
   "outputs": [
    {
     "data": {
      "text/plain": [
       "'Thus, using the Exception class as the base class for custom exceptions ensures that our custom exceptions are consistent with the existing exceptions in Python and can be handled using the same mechanism as built-in exceptions.'"
      ]
     },
     "execution_count": 10,
     "metadata": {},
     "output_type": "execute_result"
    }
   ],
   "source": [
    "'''Thus, using the Exception class as the base class for custom exceptions ensures that our custom exceptions are consistent with the existing exceptions in Python and can be handled using the same mechanism as built-in exceptions.'''"
   ]
  },
  {
   "cell_type": "code",
   "execution_count": 3,
   "id": "b299270c",
   "metadata": {},
   "outputs": [
    {
     "data": {
      "text/plain": [
       "'Q2. Write a python program to print Python Exception Hierarchy.'"
      ]
     },
     "execution_count": 3,
     "metadata": {},
     "output_type": "execute_result"
    }
   ],
   "source": [
    "'''Q2. Write a python program to print Python Exception Hierarchy.'''"
   ]
  },
  {
   "cell_type": "code",
   "execution_count": 13,
   "id": "cd8dde4b",
   "metadata": {},
   "outputs": [
    {
     "name": "stdout",
     "output_type": "stream",
     "text": [
      "Hierarchy for Built-in exceptions is : \n",
      " BaseException\n",
      "--- Exception\n",
      "------ TypeError\n",
      "--------- FloatOperation\n",
      "--------- MultipartConversionError\n",
      "--------- UFuncTypeError\n",
      "------------ UFuncTypeError\n",
      "------------ UFuncTypeError\n",
      "------------ UFuncTypeError\n",
      "--------------- UFuncTypeError\n",
      "--------------- UFuncTypeError\n",
      "------ StopAsyncIteration\n",
      "------ StopIteration\n",
      "------ ImportError\n",
      "--------- ModuleNotFoundError\n",
      "--------- ZipImportError\n",
      "------ OSError\n",
      "--------- ConnectionError\n",
      "------------ BrokenPipeError\n",
      "------------ ConnectionAbortedError\n",
      "------------ ConnectionRefusedError\n",
      "------------ ConnectionResetError\n",
      "--------------- RemoteDisconnected\n",
      "--------- BlockingIOError\n",
      "--------- ChildProcessError\n",
      "--------- FileExistsError\n",
      "--------- FileNotFoundError\n",
      "--------- IsADirectoryError\n",
      "--------- NotADirectoryError\n",
      "--------- InterruptedError\n",
      "------------ InterruptedSystemCall\n",
      "--------- PermissionError\n",
      "--------- ProcessLookupError\n",
      "--------- TimeoutError\n",
      "--------- UnsupportedOperation\n",
      "--------- herror\n",
      "--------- gaierror\n",
      "--------- timeout\n",
      "--------- SSLError\n",
      "------------ SSLCertVerificationError\n",
      "------------ SSLZeroReturnError\n",
      "------------ SSLWantReadError\n",
      "------------ SSLWantWriteError\n",
      "------------ SSLSyscallError\n",
      "------------ SSLEOFError\n",
      "--------- Error\n",
      "------------ SameFileError\n",
      "--------- SpecialFileError\n",
      "--------- ExecError\n",
      "--------- ReadError\n",
      "--------- URLError\n",
      "------------ HTTPError\n",
      "------------ ContentTooShortError\n",
      "--------- BadGzipFile\n",
      "------ EOFError\n",
      "--------- IncompleteReadError\n",
      "------ RuntimeError\n",
      "--------- RecursionError\n",
      "--------- NotImplementedError\n",
      "------------ ZMQVersionError\n",
      "------------ StdinNotImplementedError\n",
      "--------- _DeadlockError\n",
      "--------- BrokenBarrierError\n",
      "--------- BrokenExecutor\n",
      "------------ BrokenThreadPool\n",
      "--------- SendfileNotAvailableError\n",
      "--------- ExtractionError\n",
      "--------- VariableError\n",
      "--------- TooHardError\n",
      "------ NameError\n",
      "--------- UnboundLocalError\n",
      "------ AttributeError\n",
      "--------- FrozenInstanceError\n",
      "------ SyntaxError\n",
      "--------- IndentationError\n",
      "------------ TabError\n",
      "------ LookupError\n",
      "--------- IndexError\n",
      "------------ AxisError\n",
      "--------- KeyError\n",
      "------------ NoSuchKernel\n",
      "------------ UnknownBackend\n",
      "--------- CodecRegistryError\n",
      "------ ValueError\n",
      "--------- UnicodeError\n",
      "------------ UnicodeEncodeError\n",
      "------------ UnicodeDecodeError\n",
      "------------ UnicodeTranslateError\n",
      "--------- UnsupportedOperation\n",
      "--------- JSONDecodeError\n",
      "--------- SSLCertVerificationError\n",
      "--------- Error\n",
      "--------- IllegalMonthError\n",
      "--------- IllegalWeekdayError\n",
      "--------- ParserError\n",
      "--------- ClassNotFound\n",
      "--------- ClipboardEmpty\n",
      "--------- MessageDefect\n",
      "------------ NoBoundaryInMultipartDefect\n",
      "------------ StartBoundaryNotFoundDefect\n",
      "------------ CloseBoundaryNotFoundDefect\n",
      "------------ FirstHeaderLineIsContinuationDefect\n",
      "------------ MisplacedEnvelopeHeaderDefect\n",
      "------------ MissingHeaderBodySeparatorDefect\n",
      "------------ MultipartInvariantViolationDefect\n",
      "------------ InvalidMultipartContentTransferEncodingDefect\n",
      "------------ UndecodableBytesDefect\n",
      "------------ InvalidBase64PaddingDefect\n",
      "------------ InvalidBase64CharactersDefect\n",
      "------------ InvalidBase64LengthDefect\n",
      "------------ HeaderDefect\n",
      "--------------- InvalidHeaderDefect\n",
      "--------------- HeaderMissingRequiredValue\n",
      "--------------- NonPrintableDefect\n",
      "--------------- ObsoleteHeaderDefect\n",
      "--------------- NonASCIILocalPartDefect\n",
      "--------- MacroToEdit\n",
      "--------- InvalidFileException\n",
      "--------- UnequalIterablesError\n",
      "--------- InvalidVersion\n",
      "--------- _InvalidELFFileHeader\n",
      "--------- InvalidWheelFilename\n",
      "--------- InvalidSdistFilename\n",
      "--------- InvalidSpecifier\n",
      "--------- InvalidMarker\n",
      "--------- UndefinedComparison\n",
      "--------- UndefinedEnvironmentName\n",
      "--------- InvalidRequirement\n",
      "------------ RequirementParseError\n",
      "--------- InvalidVersion\n",
      "--------- AxisError\n",
      "------ AssertionError\n",
      "------ ArithmeticError\n",
      "--------- FloatingPointError\n",
      "--------- OverflowError\n",
      "--------- ZeroDivisionError\n",
      "------------ DivisionByZero\n",
      "------------ DivisionUndefined\n",
      "--------- DecimalException\n",
      "------------ Clamped\n",
      "------------ Rounded\n",
      "--------------- Underflow\n",
      "--------------- Overflow\n",
      "------------ Inexact\n",
      "--------------- Underflow\n",
      "--------------- Overflow\n",
      "------------ Subnormal\n",
      "--------------- Underflow\n",
      "------------ DivisionByZero\n",
      "------------ FloatOperation\n",
      "------------ InvalidOperation\n",
      "--------------- ConversionSyntax\n",
      "--------------- DivisionImpossible\n",
      "--------------- DivisionUndefined\n",
      "--------------- InvalidContext\n",
      "------ SystemError\n",
      "--------- CodecRegistryError\n",
      "------ ReferenceError\n",
      "------ MemoryError\n",
      "--------- MemoryError\n",
      "------ BufferError\n",
      "------ Warning\n",
      "--------- UserWarning\n",
      "------------ GetPassWarning\n",
      "------------ FormatterWarning\n",
      "------------ VisibleDeprecationWarning\n",
      "------------ RankWarning\n",
      "------------ ConversionWarning\n",
      "------------ RankWarning\n",
      "--------- DeprecationWarning\n",
      "------------ ProvisionalWarning\n",
      "------------ ModuleDeprecationWarning\n",
      "--------- PendingDeprecationWarning\n",
      "--------- SyntaxWarning\n",
      "--------- RuntimeWarning\n",
      "------------ ProactorSelectorThreadWarning\n",
      "------------ UnknownTimezoneWarning\n",
      "------------ PEP440Warning\n",
      "------------ ComplexWarning\n",
      "--------- FutureWarning\n",
      "------------ ProvisionalCompleterWarning\n",
      "------------ MaskedArrayFutureWarning\n",
      "--------- ImportWarning\n",
      "--------- UnicodeWarning\n",
      "--------- BytesWarning\n",
      "--------- ResourceWarning\n",
      "--------- DeprecatedTzFormatWarning\n",
      "--------- PkgResourcesDeprecationWarning\n",
      "------ Error\n",
      "------ _OptionError\n",
      "------ error\n",
      "------ Verbose\n",
      "------ _Error\n",
      "------ SubprocessError\n",
      "--------- CalledProcessError\n",
      "--------- TimeoutExpired\n",
      "------ TokenError\n",
      "------ StopTokenizing\n",
      "------ ClassFoundException\n",
      "------ EndOfBlock\n",
      "------ TraitError\n",
      "------ Error\n",
      "------ Error\n",
      "--------- CancelledError\n",
      "--------- TimeoutError\n",
      "--------- InvalidStateError\n",
      "------ _GiveupOnSendfile\n",
      "------ error\n",
      "------ Incomplete\n",
      "------ TimeoutError\n",
      "------ InvalidStateError\n",
      "------ LimitOverrunError\n",
      "------ QueueEmpty\n",
      "------ QueueFull\n",
      "------ error\n",
      "------ LZMAError\n",
      "------ RegistryError\n",
      "------ _GiveupOnFastCopy\n",
      "------ Empty\n",
      "------ Full\n",
      "------ ZMQBaseError\n",
      "--------- ZMQError\n",
      "------------ ContextTerminated\n",
      "------------ Again\n",
      "------------ InterruptedSystemCall\n",
      "--------- ZMQBindError\n",
      "--------- NotDone\n",
      "------ PickleError\n",
      "--------- PicklingError\n",
      "--------- UnpicklingError\n",
      "------ _Stop\n",
      "------ ArgumentError\n",
      "------ ArgumentTypeError\n",
      "------ ConfigError\n",
      "--------- ConfigLoaderError\n",
      "------------ ArgumentError\n",
      "--------- ConfigFileNotFound\n",
      "------ ConfigurableError\n",
      "--------- MultipleInstanceError\n",
      "------ ApplicationError\n",
      "------ TimeoutError\n",
      "------ COMError\n",
      "------ ArgumentError\n",
      "------ ReturnValueIgnoredError\n",
      "------ KeyReuseError\n",
      "------ UnknownKeyError\n",
      "------ LeakedCallbackError\n",
      "------ BadYieldError\n",
      "------ ReturnValueIgnoredError\n",
      "------ Return\n",
      "------ InvalidPortNumber\n",
      "------ NoIPAddresses\n",
      "------ BadZipFile\n",
      "------ LargeZipFile\n",
      "------ Error\n",
      "--------- NoSectionError\n",
      "--------- DuplicateSectionError\n",
      "--------- DuplicateOptionError\n",
      "--------- NoOptionError\n",
      "--------- InterpolationError\n",
      "------------ InterpolationMissingOptionError\n",
      "------------ InterpolationSyntaxError\n",
      "------------ InterpolationDepthError\n",
      "--------- ParsingError\n",
      "------------ MissingSectionHeaderError\n",
      "------ BadEntryPoint\n",
      "------ NoSuchEntryPoint\n",
      "------ DuplicateKernelError\n",
      "------ ErrorDuringImport\n",
      "------ BdbQuit\n",
      "------ Restart\n",
      "------ FindCmdError\n",
      "------ HomeDirError\n",
      "------ ProfileDirError\n",
      "------ IPythonCoreError\n",
      "--------- TryNext\n",
      "--------- UsageError\n",
      "--------- StdinNotImplementedError\n",
      "------ InputRejected\n",
      "------ GetoptError\n",
      "------ OptionError\n",
      "------ ErrorToken\n",
      "------ PrefilterError\n",
      "------ AliasError\n",
      "--------- InvalidAliasError\n",
      "------ Error\n",
      "--------- InterfaceError\n",
      "--------- DatabaseError\n",
      "------------ InternalError\n",
      "------------ OperationalError\n",
      "------------ ProgrammingError\n",
      "------------ IntegrityError\n",
      "------------ DataError\n",
      "------------ NotSupportedError\n",
      "------ Warning\n",
      "------ SpaceInInput\n",
      "------ DOMException\n",
      "--------- IndexSizeErr\n",
      "--------- DomstringSizeErr\n",
      "--------- HierarchyRequestErr\n",
      "--------- WrongDocumentErr\n",
      "--------- InvalidCharacterErr\n",
      "--------- NoDataAllowedErr\n",
      "--------- NoModificationAllowedErr\n",
      "--------- NotFoundErr\n",
      "--------- NotSupportedErr\n",
      "--------- InuseAttributeErr\n",
      "--------- InvalidStateErr\n",
      "--------- SyntaxErr\n",
      "--------- InvalidModificationErr\n",
      "--------- NamespaceErr\n",
      "--------- InvalidAccessErr\n",
      "--------- ValidationErr\n",
      "------ ValidationError\n"
     ]
    },
    {
     "name": "stdout",
     "output_type": "stream",
     "text": [
      "------ EditReadOnlyBuffer\n",
      "------ _Retry\n",
      "------ InvalidLayoutError\n",
      "------ HeightIsUnknownError\n",
      "------ ParserSyntaxError\n",
      "------ InternalParseError\n",
      "------ _PositionUpdatingFinished\n",
      "------ SimpleGetItemNotFound\n",
      "------ UncaughtAttributeError\n",
      "------ HasNoContext\n",
      "------ ParamIssue\n",
      "------ _JediError\n",
      "--------- InternalError\n",
      "--------- WrongVersion\n",
      "--------- RefactoringError\n",
      "------ OnErrorLeaf\n",
      "------ InvalidPythonEnvironment\n",
      "------ MessageError\n",
      "--------- MessageParseError\n",
      "------------ HeaderParseError\n",
      "------------ BoundaryError\n",
      "--------- MultipartConversionError\n",
      "--------- CharsetError\n",
      "------ Error\n",
      "------ HTTPException\n",
      "--------- NotConnected\n",
      "--------- InvalidURL\n",
      "--------- UnknownProtocol\n",
      "--------- UnknownTransferEncoding\n",
      "--------- UnimplementedFileMode\n",
      "--------- IncompleteRead\n",
      "--------- ImproperConnectionState\n",
      "------------ CannotSendRequest\n",
      "------------ CannotSendHeader\n",
      "------------ ResponseNotReady\n",
      "--------- BadStatusLine\n",
      "------------ RemoteDisconnected\n",
      "--------- LineTooLong\n",
      "------ InteractivelyDefined\n",
      "------ KillEmbedded\n",
      "------ Error\n",
      "--------- NoSuchProcess\n",
      "------------ ZombieProcess\n",
      "--------- AccessDenied\n",
      "--------- TimeoutExpired\n",
      "------ Error\n",
      "------ TimeoutExpired\n",
      "------ TimeoutAbandoned\n",
      "------ QueueEmpty\n",
      "------ QueueFull\n",
      "------ ExpatError\n",
      "------ Error\n",
      "--------- ProtocolError\n",
      "--------- ResponseError\n",
      "--------- Fault\n",
      "------ error\n",
      "------ com_error\n",
      "------ internal_error\n",
      "------ ParseBaseException\n",
      "--------- ParseException\n",
      "--------- ParseFatalException\n",
      "------------ ParseSyntaxException\n",
      "------ RecursiveGrammarException\n",
      "------ ResolutionError\n",
      "--------- VersionConflict\n",
      "------------ ContextualVersionConflict\n",
      "--------- DistributionNotFound\n",
      "--------- UnknownExtra\n",
      "------ UnableToResolveVariableException\n",
      "------ InvalidTypeInArgsException\n",
      "------ LapackError\n",
      "------ LinAlgError\n",
      "------ ConverterError\n",
      "--------- ConverterLockError\n",
      "------ MAError\n",
      "--------- MaskError\n",
      "--- GeneratorExit\n",
      "--- SystemExit\n",
      "--- KeyboardInterrupt\n",
      "--- CancelledError\n",
      "--- DebuggerInitializationError\n",
      "--- AbortThread\n"
     ]
    }
   ],
   "source": [
    "# import inspect module\n",
    "import inspect\n",
    "  \n",
    "# our treeClass function\n",
    "def treeClass(cls, ind = 0):\n",
    "    \n",
    "      # print name of the class\n",
    "    print ('-' * ind, cls.__name__)\n",
    "      \n",
    "    # iterating through subclasses\n",
    "    for i in cls.__subclasses__():\n",
    "        treeClass(i, ind + 3)\n",
    "  \n",
    "print(\"Hierarchy for Built-in exceptions is : \")\n",
    "  \n",
    "# inspect.getmro() Return a tuple \n",
    "# of class  cls’s base classes.\n",
    "  \n",
    "# building a tree hierarchy \n",
    "inspect.getclasstree(inspect.getmro(BaseException))\n",
    "  \n",
    "# function call\n",
    "treeClass(BaseException)"
   ]
  },
  {
   "cell_type": "code",
   "execution_count": null,
   "id": "c087fd47",
   "metadata": {},
   "outputs": [],
   "source": []
  },
  {
   "cell_type": "code",
   "execution_count": 4,
   "id": "5725b742",
   "metadata": {},
   "outputs": [
    {
     "data": {
      "text/plain": [
       "'Q3. What errors are defined in the ArithmeticError class? Explain any two with an example.'"
      ]
     },
     "execution_count": 4,
     "metadata": {},
     "output_type": "execute_result"
    }
   ],
   "source": [
    "'''Q3. What errors are defined in the ArithmeticError class? Explain any two with an example.'''"
   ]
  },
  {
   "cell_type": "code",
   "execution_count": 3,
   "id": "255ca0d4",
   "metadata": {},
   "outputs": [
    {
     "data": {
      "text/plain": [
       "'\\n The ArithmeticError class is a built-in Python class that handles all arithmetic-related errors. It is a subclass of the Exception class.\\n\\n Two common errors that are defined in the ArithmeticError class are:\\n'"
      ]
     },
     "execution_count": 3,
     "metadata": {},
     "output_type": "execute_result"
    }
   ],
   "source": [
    "'''\n",
    " The ArithmeticError class is a built-in Python class that handles all arithmetic-related errors. It is a subclass of the Exception class.\n",
    "\n",
    " Two common errors that are defined in the ArithmeticError class are:\n",
    "'''"
   ]
  },
  {
   "cell_type": "code",
   "execution_count": 6,
   "id": "a6dd1869",
   "metadata": {},
   "outputs": [
    {
     "name": "stdout",
     "output_type": "stream",
     "text": [
      "Cannot divide by zero.\n"
     ]
    }
   ],
   "source": [
    "# 1. ZeroDivisionError - This error is raised when we try to divide a number by zero. \n",
    "# For example:\n",
    "x = 10\n",
    "y = 0\n",
    "\n",
    "try:\n",
    "    z = x / y\n",
    "except ZeroDivisionError:\n",
    "    print(\"Cannot divide by zero.\")"
   ]
  },
  {
   "cell_type": "code",
   "execution_count": 11,
   "id": "da363520",
   "metadata": {},
   "outputs": [],
   "source": [
    "# 2. OverflowError - This error is raised when the result of an arithmetic operation exceeds the maximum representable value in Python.\n",
    "# For example:\n",
    "import sys\n",
    "\n",
    "try:\n",
    "    x = sys.maxsize\n",
    "    y = x * x\n",
    "except OverflowError:%echo\n",
    "    print(\"Result exceeds maximum representable value.\")"
   ]
  },
  {
   "cell_type": "code",
   "execution_count": 12,
   "id": "ace77c42",
   "metadata": {},
   "outputs": [
    {
     "data": {
      "text/plain": [
       "'In both examples, we catch the specific error that is raised (ZeroDivisionError or OverflowError) and print a custom error message to handle the exception.'"
      ]
     },
     "execution_count": 12,
     "metadata": {},
     "output_type": "execute_result"
    }
   ],
   "source": [
    "'''In both examples, we catch the specific error that is raised (ZeroDivisionError or OverflowError) and print a custom error message to handle the exception.'''"
   ]
  },
  {
   "cell_type": "code",
   "execution_count": 5,
   "id": "a829ae10",
   "metadata": {},
   "outputs": [
    {
     "data": {
      "text/plain": [
       "'Q4. Why LookupError class is used? Explain with an example KeyError and IndexError.'"
      ]
     },
     "execution_count": 5,
     "metadata": {},
     "output_type": "execute_result"
    }
   ],
   "source": [
    "'''Q4. Why LookupError class is used? Explain with an example KeyError and IndexError.'''"
   ]
  },
  {
   "cell_type": "code",
   "execution_count": 15,
   "id": "a2114bf1",
   "metadata": {},
   "outputs": [
    {
     "data": {
      "text/plain": [
       "'The LookupError is a base class for all lookup related exceptions in Python. It is a subclass of the Exception class.'"
      ]
     },
     "execution_count": 15,
     "metadata": {},
     "output_type": "execute_result"
    }
   ],
   "source": [
    "'''The LookupError is a base class for all lookup related exceptions in Python. It is a subclass of the Exception class.'''"
   ]
  },
  {
   "cell_type": "code",
   "execution_count": 20,
   "id": "82cc58c8",
   "metadata": {},
   "outputs": [
    {
     "data": {
      "text/plain": [
       "' KeyError and IndexError are two common exceptions that are derived from the LookupError class.\\n  KeyError: It is raised when a key is not found in a dictionary.'"
      ]
     },
     "execution_count": 20,
     "metadata": {},
     "output_type": "execute_result"
    }
   ],
   "source": [
    "''' KeyError and IndexError are two common exceptions that are derived from the LookupError class.\n",
    "  KeyError: It is raised when a key is not found in a dictionary.'''"
   ]
  },
  {
   "cell_type": "code",
   "execution_count": 21,
   "id": "d6dd7749",
   "metadata": {},
   "outputs": [
    {
     "name": "stdout",
     "output_type": "stream",
     "text": [
      "Key not found in the dictionary\n"
     ]
    }
   ],
   "source": [
    "# Example:\n",
    "my_dict = {'a': 1, 'b': 2, 'c': 3}\n",
    "\n",
    "try:\n",
    "    value = my_dict['d']\n",
    "except KeyError:\n",
    "    print(\"Key not found in the dictionary\")"
   ]
  },
  {
   "cell_type": "code",
   "execution_count": 22,
   "id": "709af2b6",
   "metadata": {},
   "outputs": [
    {
     "data": {
      "text/plain": [
       "'IndexError: It is raised when an index is out of range for a list or tuple.'"
      ]
     },
     "execution_count": 22,
     "metadata": {},
     "output_type": "execute_result"
    }
   ],
   "source": [
    "'''IndexError: It is raised when an index is out of range for a list or tuple.'''"
   ]
  },
  {
   "cell_type": "code",
   "execution_count": 23,
   "id": "23688276",
   "metadata": {},
   "outputs": [
    {
     "name": "stdout",
     "output_type": "stream",
     "text": [
      "Index out of range for the list\n"
     ]
    }
   ],
   "source": [
    "# Example:\n",
    "my_list = [1, 2, 3]\n",
    "\n",
    "try:\n",
    "    value = my_list[3]\n",
    "except IndexError:\n",
    "    print(\"Index out of range for the list\")"
   ]
  },
  {
   "cell_type": "code",
   "execution_count": 6,
   "id": "406fa97c",
   "metadata": {},
   "outputs": [
    {
     "data": {
      "text/plain": [
       "'Q5. Explain ImportError. What is ModuleNotFoundError?'"
      ]
     },
     "execution_count": 6,
     "metadata": {},
     "output_type": "execute_result"
    }
   ],
   "source": [
    "'''Q5. Explain ImportError. What is ModuleNotFoundError?'''"
   ]
  },
  {
   "cell_type": "code",
   "execution_count": 24,
   "id": "ca623626",
   "metadata": {},
   "outputs": [
    {
     "data": {
      "text/plain": [
       "'In Python, ImportError is raised when a module or package is not found by the interpreter. This error can occur due to various reasons, such as the module or package is not installed, the module or package is not available in the current working directory, or the path to the module or package is not correct.'"
      ]
     },
     "execution_count": 24,
     "metadata": {},
     "output_type": "execute_result"
    }
   ],
   "source": [
    "'''In Python, ImportError is raised when a module or package is not found by the interpreter. This error can occur due to various reasons, such as the module or package is not installed, the module or package is not available in the current working directory, or the path to the module or package is not correct.'''"
   ]
  },
  {
   "cell_type": "code",
   "execution_count": 25,
   "id": "c68c6c41",
   "metadata": {},
   "outputs": [
    {
     "name": "stdout",
     "output_type": "stream",
     "text": [
      "Module not found\n"
     ]
    }
   ],
   "source": [
    "# For example, consider the following code snippet:\n",
    "try:\n",
    "    import xyz\n",
    "except ImportError:\n",
    "    print(\"Module not found\")"
   ]
  },
  {
   "cell_type": "code",
   "execution_count": 26,
   "id": "6f48345d",
   "metadata": {},
   "outputs": [
    {
     "data": {
      "text/plain": [
       "'In the above code, the ImportError exception is caught when the module xyz is not found by the interpreter. The message \"Module not found\" is printed to the console.'"
      ]
     },
     "execution_count": 26,
     "metadata": {},
     "output_type": "execute_result"
    }
   ],
   "source": [
    "'''In the above code, the ImportError exception is caught when the module xyz is not found by the interpreter. The message \"Module not found\" is printed to the console.'''"
   ]
  },
  {
   "cell_type": "code",
   "execution_count": 27,
   "id": "18318599",
   "metadata": {},
   "outputs": [
    {
     "data": {
      "text/plain": [
       "'ModuleNotFoundError is a subclass of ImportError that was introduced in Python 3.6. It is raised when a module or package is not found by the interpreter. ModuleNotFoundError is more specific than ImportError and provides a clearer error message to the user.'"
      ]
     },
     "execution_count": 27,
     "metadata": {},
     "output_type": "execute_result"
    }
   ],
   "source": [
    "'''ModuleNotFoundError is a subclass of ImportError that was introduced in Python 3.6. It is raised when a module or package is not found by the interpreter. ModuleNotFoundError is more specific than ImportError and provides a clearer error message to the user.'''"
   ]
  },
  {
   "cell_type": "code",
   "execution_count": 28,
   "id": "6a2002d2",
   "metadata": {},
   "outputs": [
    {
     "name": "stdout",
     "output_type": "stream",
     "text": [
      "Module not found\n"
     ]
    }
   ],
   "source": [
    "# Example:\n",
    "try:\n",
    "    import xyz\n",
    "except ModuleNotFoundError:\n",
    "    print(\"Module not found\")"
   ]
  },
  {
   "cell_type": "code",
   "execution_count": 29,
   "id": "1661d00a",
   "metadata": {},
   "outputs": [
    {
     "data": {
      "text/plain": [
       "'In the above code, the ModuleNotFoundError exception is caught when the module xyz is not found by the interpreter. The message \"Module not found\" is printed to the console.'"
      ]
     },
     "execution_count": 29,
     "metadata": {},
     "output_type": "execute_result"
    }
   ],
   "source": [
    "'''In the above code, the ModuleNotFoundError exception is caught when the module xyz is not found by the interpreter. The message \"Module not found\" is printed to the console.'''"
   ]
  },
  {
   "cell_type": "code",
   "execution_count": 7,
   "id": "b4993df7",
   "metadata": {},
   "outputs": [
    {
     "data": {
      "text/plain": [
       "'Q6. List down some best practices for exception handling in python.'"
      ]
     },
     "execution_count": 7,
     "metadata": {},
     "output_type": "execute_result"
    }
   ],
   "source": [
    "'''Q6. List down some best practices for exception handling in python.'''"
   ]
  },
  {
   "cell_type": "code",
   "execution_count": 1,
   "id": "5fa459bb",
   "metadata": {},
   "outputs": [
    {
     "data": {
      "text/plain": [
       "'Here are some best practices for exception handling in Python:\\n\\n 1. Handle specific exceptions: Instead of using a broad exception, such as \"Exception,\" use specific exceptions, such as \"ValueError\" or \"TypeError.\" This makes it easier to debug and identify the root cause of the exception.\\n\\n 2. Use try-except blocks sparingly: Use try-except blocks only where you expect exceptions to occur. Do not use them for general program flow or to mask programming errors.\\n\\n 3. Use finally blocks to clean up resources: The finally block is executed whether or not an exception occurs. Use it to clean up resources, such as closing a file or database connection.\\n\\n 4. Use the with statement for file operations: The with statement automatically closes the file after the operation, eliminating the need for an explicit close() call.\\n\\n 5. Log exceptions: Use a logging library, such as Python\\'s built-in logging module, to log exceptions to a file or other output. This helps with debugging and identifying issues in production.\\n 6. Handle exceptions at the appropriate level: Handle exceptions at the appropriate level of abstraction. If an exception can be handled locally, handle it locally. If it needs to be propagated up the call stack, propagate it.\\n\\n 7. Use custom exceptions: Use custom exceptions to communicate specific error conditions or to wrap lower-level exceptions.\\n\\n 8. Don\\'t suppress exceptions: Don\\'t use a bare except statement or pass to suppress exceptions. This can mask underlying issues and make debugging more difficult.\\n\\n 9. Use assertions: Use assertions to check for conditions that should always hold true. This helps catch programming errors early in development.\\n'"
      ]
     },
     "execution_count": 1,
     "metadata": {},
     "output_type": "execute_result"
    }
   ],
   "source": [
    "'''Here are some best practices for exception handling in Python:\n",
    "\n",
    " 1. Handle specific exceptions: Instead of using a broad exception, such as \"Exception,\" use specific exceptions, such as \"ValueError\" or \"TypeError.\" This makes it easier to debug and identify the root cause of the exception.\n",
    "\n",
    " 2. Use try-except blocks sparingly: Use try-except blocks only where you expect exceptions to occur. Do not use them for general program flow or to mask programming errors.\n",
    "\n",
    " 3. Use finally blocks to clean up resources: The finally block is executed whether or not an exception occurs. Use it to clean up resources, such as closing a file or database connection.\n",
    "\n",
    " 4. Use the with statement for file operations: The with statement automatically closes the file after the operation, eliminating the need for an explicit close() call.\n",
    "\n",
    " 5. Log exceptions: Use a logging library, such as Python's built-in logging module, to log exceptions to a file or other output. This helps with debugging and identifying issues in production.\n",
    " 6. Handle exceptions at the appropriate level: Handle exceptions at the appropriate level of abstraction. If an exception can be handled locally, handle it locally. If it needs to be propagated up the call stack, propagate it.\n",
    "\n",
    " 7. Use custom exceptions: Use custom exceptions to communicate specific error conditions or to wrap lower-level exceptions.\n",
    "\n",
    " 8. Don't suppress exceptions: Don't use a bare except statement or pass to suppress exceptions. This can mask underlying issues and make debugging more difficult.\n",
    "\n",
    " 9. Use assertions: Use assertions to check for conditions that should always hold true. This helps catch programming errors early in development.\n",
    "'''"
   ]
  },
  {
   "cell_type": "code",
   "execution_count": null,
   "id": "5fa88c8a",
   "metadata": {},
   "outputs": [],
   "source": []
  }
 ],
 "metadata": {
  "kernelspec": {
   "display_name": "Python 3 (ipykernel)",
   "language": "python",
   "name": "python3"
  },
  "language_info": {
   "codemirror_mode": {
    "name": "ipython",
    "version": 3
   },
   "file_extension": ".py",
   "mimetype": "text/x-python",
   "name": "python",
   "nbconvert_exporter": "python",
   "pygments_lexer": "ipython3",
   "version": "3.9.13"
  },
  "varInspector": {
   "cols": {
    "lenName": 16,
    "lenType": 16,
    "lenVar": 40
   },
   "kernels_config": {
    "python": {
     "delete_cmd_postfix": "",
     "delete_cmd_prefix": "del ",
     "library": "var_list.py",
     "varRefreshCmd": "print(var_dic_list())"
    },
    "r": {
     "delete_cmd_postfix": ") ",
     "delete_cmd_prefix": "rm(",
     "library": "var_list.r",
     "varRefreshCmd": "cat(var_dic_list()) "
    }
   },
   "types_to_exclude": [
    "module",
    "function",
    "builtin_function_or_method",
    "instance",
    "_Feature"
   ],
   "window_display": false
  }
 },
 "nbformat": 4,
 "nbformat_minor": 5
}
