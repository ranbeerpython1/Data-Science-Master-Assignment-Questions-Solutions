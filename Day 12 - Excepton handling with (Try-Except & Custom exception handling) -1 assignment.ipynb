{
 "cells": [
  {
   "cell_type": "code",
   "execution_count": 1,
   "id": "c407f527",
   "metadata": {},
   "outputs": [
    {
     "data": {
      "text/plain": [
       "'Q1. What is an Exception in python? Write the difference between Exceptions and syntax errors'"
      ]
     },
     "execution_count": 1,
     "metadata": {},
     "output_type": "execute_result"
    }
   ],
   "source": [
    "'''Q1. What is an Exception in python? Write the difference between Exceptions and syntax errors'''"
   ]
  },
  {
   "cell_type": "code",
   "execution_count": 11,
   "id": "8fcfc54a",
   "metadata": {},
   "outputs": [
    {
     "data": {
      "text/plain": [
       "'In Python, an exception is an error that occurs during the execution of a program, interrupting the normal flow of instructions. When an error occurs, Python creates an object that contains information about the error, such as its type and traceback, and then raises the exception.'"
      ]
     },
     "execution_count": 11,
     "metadata": {},
     "output_type": "execute_result"
    }
   ],
   "source": [
    "'''In Python, an exception is an error that occurs during the execution of a program, interrupting the normal flow of instructions. When an error occurs, Python creates an object that contains information about the error, such as its type and traceback, and then raises the exception.'''"
   ]
  },
  {
   "cell_type": "code",
   "execution_count": 10,
   "id": "9ac4ee24",
   "metadata": {},
   "outputs": [
    {
     "data": {
      "text/plain": [
       "'Syntax errors, on the other hand, are errors that occur when Python encounters invalid code that violates the rules of the Python language. These errors occur during the parsing stage, before the code is executed.'"
      ]
     },
     "execution_count": 10,
     "metadata": {},
     "output_type": "execute_result"
    }
   ],
   "source": [
    "'''Syntax errors, on the other hand, are errors that occur when Python encounters invalid code that violates the rules of the Python language. These errors occur during the parsing stage, before the code is executed.'''"
   ]
  },
  {
   "cell_type": "code",
   "execution_count": 9,
   "id": "fb043527",
   "metadata": {},
   "outputs": [
    {
     "data": {
      "text/plain": [
       "'The main difference between exceptions and syntax errors is that exceptions occur during the execution of the program, while syntax errors occur during the parsing of the code. Exceptions can be caught and handled using try-except blocks, whereas syntax errors cannot be caught and must be fixed by correcting the code.'"
      ]
     },
     "execution_count": 9,
     "metadata": {},
     "output_type": "execute_result"
    }
   ],
   "source": [
    "'''The main difference between exceptions and syntax errors is that exceptions occur during the execution of the program, while syntax errors occur during the parsing of the code. Exceptions can be caught and handled using try-except blocks, whereas syntax errors cannot be caught and must be fixed by correcting the code.'''"
   ]
  },
  {
   "cell_type": "code",
   "execution_count": 2,
   "id": "a14dd4f3",
   "metadata": {},
   "outputs": [
    {
     "data": {
      "text/plain": [
       "'Q2. What happens when an exception is not handled? Explain with an example'"
      ]
     },
     "execution_count": 2,
     "metadata": {},
     "output_type": "execute_result"
    }
   ],
   "source": [
    "'''Q2. What happens when an exception is not handled? Explain with an example'''"
   ]
  },
  {
   "cell_type": "code",
   "execution_count": 12,
   "id": "4baf322a",
   "metadata": {},
   "outputs": [
    {
     "data": {
      "text/plain": [
       "'When an exception is not handled, the program execution stops and the interpreter prints an error message (also known as a traceback) describing the exception and where it occurred. The error message helps in identifying the problem and fixing the code.'"
      ]
     },
     "execution_count": 12,
     "metadata": {},
     "output_type": "execute_result"
    }
   ],
   "source": [
    "'''When an exception is not handled, the program execution stops and the interpreter prints an error message (also known as a traceback) describing the exception and where it occurred. The error message helps in identifying the problem and fixing the code.'''"
   ]
  },
  {
   "cell_type": "code",
   "execution_count": 13,
   "id": "7df221f6",
   "metadata": {},
   "outputs": [
    {
     "ename": "ZeroDivisionError",
     "evalue": "division by zero",
     "output_type": "error",
     "traceback": [
      "\u001b[1;31m---------------------------------------------------------------------------\u001b[0m",
      "\u001b[1;31mZeroDivisionError\u001b[0m                         Traceback (most recent call last)",
      "\u001b[1;32m~\\AppData\\Local\\Temp\\ipykernel_11280\\3762195283.py\u001b[0m in \u001b[0;36m<module>\u001b[1;34m\u001b[0m\n\u001b[0;32m      5\u001b[0m \u001b[1;33m\u001b[0m\u001b[0m\n\u001b[0;32m      6\u001b[0m \u001b[1;31m# Call the function with invalid arguments to cause a ZeroDivisionError exception\u001b[0m\u001b[1;33m\u001b[0m\u001b[1;33m\u001b[0m\u001b[0m\n\u001b[1;32m----> 7\u001b[1;33m \u001b[0mresult\u001b[0m \u001b[1;33m=\u001b[0m \u001b[0mdivide_numbers\u001b[0m\u001b[1;33m(\u001b[0m\u001b[1;36m10\u001b[0m\u001b[1;33m,\u001b[0m \u001b[1;36m0\u001b[0m\u001b[1;33m)\u001b[0m\u001b[1;33m\u001b[0m\u001b[1;33m\u001b[0m\u001b[0m\n\u001b[0m",
      "\u001b[1;32m~\\AppData\\Local\\Temp\\ipykernel_11280\\3762195283.py\u001b[0m in \u001b[0;36mdivide_numbers\u001b[1;34m(a, b)\u001b[0m\n\u001b[0;32m      1\u001b[0m \u001b[1;31m# Example code with an exception that is not handled\u001b[0m\u001b[1;33m\u001b[0m\u001b[1;33m\u001b[0m\u001b[0m\n\u001b[0;32m      2\u001b[0m \u001b[1;32mdef\u001b[0m \u001b[0mdivide_numbers\u001b[0m\u001b[1;33m(\u001b[0m\u001b[0ma\u001b[0m\u001b[1;33m,\u001b[0m \u001b[0mb\u001b[0m\u001b[1;33m)\u001b[0m\u001b[1;33m:\u001b[0m\u001b[1;33m\u001b[0m\u001b[1;33m\u001b[0m\u001b[0m\n\u001b[1;32m----> 3\u001b[1;33m     \u001b[0mresult\u001b[0m \u001b[1;33m=\u001b[0m \u001b[0ma\u001b[0m \u001b[1;33m/\u001b[0m \u001b[0mb\u001b[0m\u001b[1;33m\u001b[0m\u001b[1;33m\u001b[0m\u001b[0m\n\u001b[0m\u001b[0;32m      4\u001b[0m     \u001b[1;32mreturn\u001b[0m \u001b[0mresult\u001b[0m\u001b[1;33m\u001b[0m\u001b[1;33m\u001b[0m\u001b[0m\n\u001b[0;32m      5\u001b[0m \u001b[1;33m\u001b[0m\u001b[0m\n",
      "\u001b[1;31mZeroDivisionError\u001b[0m: division by zero"
     ]
    }
   ],
   "source": [
    "# Example code with an exception that is not handled\n",
    "def divide_numbers(a, b):\n",
    "    result = a / b\n",
    "    return result\n",
    "\n",
    "# Call the function with invalid arguments to cause a ZeroDivisionError exception\n",
    "result = divide_numbers(10, 0)\n"
   ]
  },
  {
   "cell_type": "code",
   "execution_count": 14,
   "id": "2250d4ab",
   "metadata": {},
   "outputs": [
    {
     "data": {
      "text/plain": [
       "'In the above example, the divide_numbers() function tries to divide a by b, but if b is zero, it will cause a ZeroDivisionError exception. If this exception is not handled, the program execution will stop and an error message will be printed:'"
      ]
     },
     "execution_count": 14,
     "metadata": {},
     "output_type": "execute_result"
    }
   ],
   "source": [
    "'''In the above example, the divide_numbers() function tries to divide a by b, but if b is zero, it will cause a ZeroDivisionError exception. If this exception is not handled, the program execution will stop and an error message will be printed:'''"
   ]
  },
  {
   "cell_type": "code",
   "execution_count": 20,
   "id": "ffa5aec7",
   "metadata": {},
   "outputs": [
    {
     "data": {
      "text/plain": [
       "'In this case, the program execution stops and the error message indicates that there was a ZeroDivisionError exception in the divide_numbers() function at line 3 of the code. This helps in identifying the problem and fixing the code.'"
      ]
     },
     "execution_count": 20,
     "metadata": {},
     "output_type": "execute_result"
    }
   ],
   "source": [
    "'''In this case, the program execution stops and the error message indicates that there was a ZeroDivisionError exception in the divide_numbers() function at line 3 of the code. This helps in identifying the problem and fixing the code.'''"
   ]
  },
  {
   "cell_type": "code",
   "execution_count": 3,
   "id": "7420c1e1",
   "metadata": {},
   "outputs": [
    {
     "data": {
      "text/plain": [
       "'Q3. Which Python statements are used to catch and handle exceptions? Explain with an example'"
      ]
     },
     "execution_count": 3,
     "metadata": {},
     "output_type": "execute_result"
    }
   ],
   "source": [
    "'''Q3. Which Python statements are used to catch and handle exceptions? Explain with an example'''"
   ]
  },
  {
   "cell_type": "code",
   "execution_count": 22,
   "id": "ff505908",
   "metadata": {},
   "outputs": [
    {
     "data": {
      "text/plain": [
       "'In Python, try-except blocks are used to catch and handle exceptions. The try block contains the code that may raise an exception, and the except block contains the code that will be executed if an exception is raised.'"
      ]
     },
     "execution_count": 22,
     "metadata": {},
     "output_type": "execute_result"
    }
   ],
   "source": [
    "'''In Python, try-except blocks are used to catch and handle exceptions. The try block contains the code that may raise an exception, and the except block contains the code that will be executed if an exception is raised.'''"
   ]
  },
  {
   "cell_type": "code",
   "execution_count": 23,
   "id": "daca23dc",
   "metadata": {},
   "outputs": [
    {
     "name": "stdout",
     "output_type": "stream",
     "text": [
      "Cannot divide by zero!\n"
     ]
    }
   ],
   "source": [
    "# Here is an example of using try-except to handle an exception:\n",
    "try:\n",
    "    x = 1 / 0\n",
    "except ZeroDivisionError:\n",
    "    print(\"Cannot divide by zero!\")\n"
   ]
  },
  {
   "cell_type": "code",
   "execution_count": 24,
   "id": "d719cc47",
   "metadata": {},
   "outputs": [
    {
     "data": {
      "text/plain": [
       "'In this example, the code inside the try block attempts to divide 1 by 0, which will raise a ZeroDivisionError exception. The except block specifies the type of exception to catch (in this case, ZeroDivisionError) and the code to execute when the exception is caught (in this case, printing an error message).ipynb_checkpoints/'"
      ]
     },
     "execution_count": 24,
     "metadata": {},
     "output_type": "execute_result"
    }
   ],
   "source": [
    "'''In this example, the code inside the try block attempts to divide 1 by 0, which will raise a ZeroDivisionError exception. The except block specifies the type of exception to catch (in this case, ZeroDivisionError) and the code to execute when the exception is caught (in this case, printing an error message).ipynb_checkpoints/'''"
   ]
  },
  {
   "cell_type": "code",
   "execution_count": 25,
   "id": "a906bb5b",
   "metadata": {},
   "outputs": [
    {
     "data": {
      "text/plain": [
       "'If an exception is raised and there is no corresponding except block to catch it, the program will terminate and print an error message to the console.'"
      ]
     },
     "execution_count": 25,
     "metadata": {},
     "output_type": "execute_result"
    }
   ],
   "source": [
    "'''If an exception is raised and there is no corresponding except block to catch it, the program will terminate and print an error message to the console.'''"
   ]
  },
  {
   "cell_type": "code",
   "execution_count": 6,
   "id": "7ebb7c66",
   "metadata": {},
   "outputs": [
    {
     "data": {
      "text/plain": [
       "'Q4. Explain with an example:\\n a. try and else\\n b. finally\\n c. raise '"
      ]
     },
     "execution_count": 6,
     "metadata": {},
     "output_type": "execute_result"
    }
   ],
   "source": [
    "'''Q4. Explain with an example:\n",
    " a. try and else\n",
    " b. finally\n",
    " c. raise '''"
   ]
  },
  {
   "cell_type": "code",
   "execution_count": 26,
   "id": "232f795b",
   "metadata": {},
   "outputs": [
    {
     "data": {
      "text/plain": [
       "'The try statement allows us to define a block of code to be tested for errors while it is being executed. If an error occurs in this try block, then the execution is immediately transferred to the except block. However, if there are no errors in the try block, then the else block is executed.'"
      ]
     },
     "execution_count": 26,
     "metadata": {},
     "output_type": "execute_result"
    }
   ],
   "source": [
    "# a. try and else:\n",
    "'''The try statement allows us to define a block of code to be tested for errors while it is being executed. If an error occurs in this try block, then the execution is immediately transferred to the except block. However, if there are no errors in the try block, then the else block is executed.'''"
   ]
  },
  {
   "cell_type": "code",
   "execution_count": 28,
   "id": "9049f496",
   "metadata": {},
   "outputs": [
    {
     "name": "stdout",
     "output_type": "stream",
     "text": [
      "Enter a number: 0\n",
      "Cannot divide by zero\n"
     ]
    }
   ],
   "source": [
    "# Example\n",
    "try:\n",
    "    num = int(input(\"Enter a number: \"))\n",
    "    result = 100 / num\n",
    "except ZeroDivisionError:\n",
    "    print(\"Cannot divide by zero\")\n",
    "else:\n",
    "    print(\"Result:\", result)\n"
   ]
  },
  {
   "cell_type": "code",
   "execution_count": 29,
   "id": "014ad5e9",
   "metadata": {},
   "outputs": [
    {
     "data": {
      "text/plain": [
       "'In this example, the user is prompted to enter a number. If the number is successfully converted to an integer and the result of 100 divided by the number is calculated without any errors, then the else block will be executed and the result will be printed.'"
      ]
     },
     "execution_count": 29,
     "metadata": {},
     "output_type": "execute_result"
    }
   ],
   "source": [
    "'''In this example, the user is prompted to enter a number. If the number is successfully converted to an integer and the result of 100 divided by the number is calculated without any errors, then the else block will be executed and the result will be printed.'''"
   ]
  },
  {
   "cell_type": "code",
   "execution_count": 30,
   "id": "4450809e",
   "metadata": {},
   "outputs": [
    {
     "data": {
      "text/plain": [
       "'The finally statement is used to define a block of code that will be executed no matter what happens in the try and except blocks.'"
      ]
     },
     "execution_count": 30,
     "metadata": {},
     "output_type": "execute_result"
    }
   ],
   "source": [
    "# b. finally:\n",
    "'''The finally statement is used to define a block of code that will be executed no matter what happens in the try and except blocks.'''"
   ]
  },
  {
   "cell_type": "code",
   "execution_count": 35,
   "id": "fb710a72",
   "metadata": {},
   "outputs": [
    {
     "name": "stdout",
     "output_type": "stream",
     "text": [
      "Enter a number: 0\n",
      "Cannot divide by zero\n",
      "This will always execute\n"
     ]
    }
   ],
   "source": [
    "# Example:\n",
    "try:\n",
    "    num = int(input(\"Enter a number: \"))\n",
    "    result = 100 / num\n",
    "    print(\"Result\",result)\n",
    "except ZeroDivisionError:\n",
    "    print(\"Cannot divide by zero\")\n",
    "finally:\n",
    "    print(\"This will always execute\")\n"
   ]
  },
  {
   "cell_type": "code",
   "execution_count": 36,
   "id": "438e0fe3",
   "metadata": {},
   "outputs": [
    {
     "data": {
      "text/plain": [
       "'In this example, the user is prompted to enter a number. If the number is successfully converted to an integer and the result of 100 divided by the number is calculated without any errors, then the finally block will be executed and the message \"This will always execute\" will be printed. If there is a ZeroDivisionError, then the except block will be executed before the finally block is executed.'"
      ]
     },
     "execution_count": 36,
     "metadata": {},
     "output_type": "execute_result"
    }
   ],
   "source": [
    "'''In this example, the user is prompted to enter a number. If the number is successfully converted to an integer and the result of 100 divided by the number is calculated without any errors, then the finally block will be executed and the message \"This will always execute\" will be printed. If there is a ZeroDivisionError, then the except block will be executed before the finally block is executed.'''"
   ]
  },
  {
   "cell_type": "code",
   "execution_count": 37,
   "id": "9f0edbbd",
   "metadata": {},
   "outputs": [
    {
     "data": {
      "text/plain": [
       "'The raise statement is used to raise an exception explicitly.'"
      ]
     },
     "execution_count": 37,
     "metadata": {},
     "output_type": "execute_result"
    }
   ],
   "source": [
    "# c. raise:\n",
    "'''The raise statement is used to raise an exception explicitly.'''"
   ]
  },
  {
   "cell_type": "code",
   "execution_count": 38,
   "id": "ac3c5e9d",
   "metadata": {},
   "outputs": [
    {
     "ename": "Exception",
     "evalue": "x cannot be negative",
     "output_type": "error",
     "traceback": [
      "\u001b[1;31m---------------------------------------------------------------------------\u001b[0m",
      "\u001b[1;31mException\u001b[0m                                 Traceback (most recent call last)",
      "\u001b[1;32m~\\AppData\\Local\\Temp\\ipykernel_11280\\1947874273.py\u001b[0m in \u001b[0;36m<module>\u001b[1;34m\u001b[0m\n\u001b[0;32m      2\u001b[0m \u001b[0mx\u001b[0m \u001b[1;33m=\u001b[0m \u001b[1;33m-\u001b[0m\u001b[1;36m1\u001b[0m\u001b[1;33m\u001b[0m\u001b[1;33m\u001b[0m\u001b[0m\n\u001b[0;32m      3\u001b[0m \u001b[1;32mif\u001b[0m \u001b[0mx\u001b[0m \u001b[1;33m<\u001b[0m \u001b[1;36m0\u001b[0m\u001b[1;33m:\u001b[0m\u001b[1;33m\u001b[0m\u001b[1;33m\u001b[0m\u001b[0m\n\u001b[1;32m----> 4\u001b[1;33m     \u001b[1;32mraise\u001b[0m \u001b[0mException\u001b[0m\u001b[1;33m(\u001b[0m\u001b[1;34m\"x cannot be negative\"\u001b[0m\u001b[1;33m)\u001b[0m\u001b[1;33m\u001b[0m\u001b[1;33m\u001b[0m\u001b[0m\n\u001b[0m",
      "\u001b[1;31mException\u001b[0m: x cannot be negative"
     ]
    }
   ],
   "source": [
    "# Example:\n",
    "x = -1\n",
    "if x < 0:\n",
    "    raise Exception(\"x cannot be negative\")\n"
   ]
  },
  {
   "cell_type": "code",
   "execution_count": 39,
   "id": "c29495cc",
   "metadata": {},
   "outputs": [
    {
     "data": {
      "text/plain": [
       "'In this example, if the value of x is negative, then an exception with the message \"x cannot be negative\" will be raised.'"
      ]
     },
     "execution_count": 39,
     "metadata": {},
     "output_type": "execute_result"
    }
   ],
   "source": [
    "'''In this example, if the value of x is negative, then an exception with the message \"x cannot be negative\" will be raised.'''"
   ]
  },
  {
   "cell_type": "code",
   "execution_count": 7,
   "id": "b9d22350",
   "metadata": {},
   "outputs": [
    {
     "data": {
      "text/plain": [
       "'Q5. What are Custom Exceptions in python? Why do we need Custom Exceptions? Explain with an example'"
      ]
     },
     "execution_count": 7,
     "metadata": {},
     "output_type": "execute_result"
    }
   ],
   "source": [
    "'''Q5. What are Custom Exceptions in python? Why do we need Custom Exceptions? Explain with an example'''"
   ]
  },
  {
   "cell_type": "code",
   "execution_count": 40,
   "id": "d5b398e2",
   "metadata": {},
   "outputs": [
    {
     "data": {
      "text/plain": [
       "'Custom Exceptions in Python are user-defined exceptions that can be raised when a specific error or situation occurs. Custom exceptions allow programmers to define and raise their own exceptions to provide more information about the problem that occurred in the program.'"
      ]
     },
     "execution_count": 40,
     "metadata": {},
     "output_type": "execute_result"
    }
   ],
   "source": [
    "'''Custom Exceptions in Python are user-defined exceptions that can be raised when a specific error or situation occurs. Custom exceptions allow programmers to define and raise their own exceptions to provide more information about the problem that occurred in the program.'''"
   ]
  },
  {
   "cell_type": "code",
   "execution_count": 41,
   "id": "62f30de1",
   "metadata": {},
   "outputs": [
    {
     "data": {
      "text/plain": [
       "'We need Custom Exceptions in Python to provide more descriptive error messages to the user when a specific condition is not met. This makes it easier to debug and fix the issues in the program.'"
      ]
     },
     "execution_count": 41,
     "metadata": {},
     "output_type": "execute_result"
    }
   ],
   "source": [
    "'''We need Custom Exceptions in Python to provide more descriptive error messages to the user when a specific condition is not met. This makes it easier to debug and fix the issues in the program.'''"
   ]
  },
  {
   "cell_type": "code",
   "execution_count": 42,
   "id": "0928afdb",
   "metadata": {},
   "outputs": [
    {
     "data": {
      "text/plain": [
       "'Suppose we have a program that performs some mathematical calculations, and we want to ensure that the input provided is always positive. We can define a custom exception named NegativeNumberException that will be raised whenever a negative number is provided as input.'"
      ]
     },
     "execution_count": 42,
     "metadata": {},
     "output_type": "execute_result"
    }
   ],
   "source": [
    "# Example:\n",
    "'''Suppose we have a program that performs some mathematical calculations, and we want to ensure that the input provided is always positive. We can define a custom exception named NegativeNumberException that will be raised whenever a negative number is provided as input.'''"
   ]
  },
  {
   "cell_type": "code",
   "execution_count": 43,
   "id": "75c8eb03",
   "metadata": {
    "scrolled": false
   },
   "outputs": [
    {
     "name": "stdout",
     "output_type": "stream",
     "text": [
      "Input must be positive\n"
     ]
    }
   ],
   "source": [
    "class NegativeNumberException(Exception):\n",
    "    def __init__(self, message):\n",
    "        self.message = message\n",
    "\n",
    "def square_root(num):\n",
    "    if num < 0:\n",
    "        raise NegativeNumberException(\"Input must be positive\")\n",
    "    else:\n",
    "        return num ** 0.5\n",
    "\n",
    "try:\n",
    "    result = square_root(-4)\n",
    "except NegativeNumberException as e:\n",
    "    print(e.message)\n",
    "else:\n",
    "    print(result)\n"
   ]
  },
  {
   "cell_type": "code",
   "execution_count": 44,
   "id": "00ecccda",
   "metadata": {},
   "outputs": [
    {
     "data": {
      "text/plain": [
       "'In this example, we defined a custom exception named NegativeNumberException with an error message. We then wrote a function named square_root that raises this exception whenever a negative number is provided as input. Finally, we wrapped the function call in a try-except block and caught the exception when it was raised. The error message is then printed to the console'"
      ]
     },
     "execution_count": 44,
     "metadata": {},
     "output_type": "execute_result"
    }
   ],
   "source": [
    "'''In this example, we defined a custom exception named NegativeNumberException with an error message. We then wrote a function named square_root that raises this exception whenever a negative number is provided as input. Finally, we wrapped the function call in a try-except block and caught the exception when it was raised. The error message is then printed to the console'''"
   ]
  },
  {
   "cell_type": "code",
   "execution_count": null,
   "id": "c10dc942",
   "metadata": {},
   "outputs": [],
   "source": []
  },
  {
   "cell_type": "code",
   "execution_count": 8,
   "id": "29dbbd81",
   "metadata": {},
   "outputs": [
    {
     "data": {
      "text/plain": [
       "'Q6. Create a custom exception class. Use this class to handle an exception.'"
      ]
     },
     "execution_count": 8,
     "metadata": {},
     "output_type": "execute_result"
    }
   ],
   "source": [
    "'''Q6. Create a custom exception class. Use this class to handle an exception.'''"
   ]
  },
  {
   "cell_type": "code",
   "execution_count": 51,
   "id": "73d14526",
   "metadata": {},
   "outputs": [
    {
     "name": "stdout",
     "output_type": "stream",
     "text": [
      "Enter your number-5\n",
      "Input number cannot be negative\n"
     ]
    }
   ],
   "source": [
    "# Here's an example of creating a custom exception class and handling an exception using that class:\n",
    "class NegativeNumberError(Exception):\n",
    "    pass\n",
    "\n",
    "def square_root(x):\n",
    "    if x < 0:\n",
    "        raise NegativeNumberError(\"Input number cannot be negative\")\n",
    "    elif x>0:\n",
    "        raise NegativeNumberError(\"Input numbe is positive\")\n",
    "    else:\n",
    "        return x**0.5\n",
    "\n",
    "try:\n",
    "    result = int(input(\"Enter your number\"))\n",
    "#     result = square_root(-4)\n",
    "    square_root(result)\n",
    "except NegativeNumberError as e:\n",
    "    print(e)\n"
   ]
  },
  {
   "cell_type": "code",
   "execution_count": 46,
   "id": "05777112",
   "metadata": {},
   "outputs": [
    {
     "data": {
      "text/plain": [
       "'In this example, we define a custom exception class called NegativeNumberError which simply inherits from the built-in Exception class. We then define a function square_root() that takes a number x as input and computes its square root. If x is negative, we raise a NegativeNumberError with a custom error message.'"
      ]
     },
     "execution_count": 46,
     "metadata": {},
     "output_type": "execute_result"
    }
   ],
   "source": [
    "'''In this example, we define a custom exception class called NegativeNumberError which simply inherits from the built-in Exception class. We then define a function square_root() that takes a number x as input and computes its square root. If x is negative, we raise a NegativeNumberError with a custom error message.'''"
   ]
  },
  {
   "cell_type": "code",
   "execution_count": 47,
   "id": "ef339ed4",
   "metadata": {},
   "outputs": [
    {
     "data": {
      "text/plain": [
       "'In the try block, we call square_root() with an input value of -4. Since this input value is negative, the function raises a NegativeNumberError, which we catch in the except block. We print the custom error message associated with the exception using the as keyword to create an instance of the NegativeNumberError class.'"
      ]
     },
     "execution_count": 47,
     "metadata": {},
     "output_type": "execute_result"
    }
   ],
   "source": [
    "'''In the try block, we call square_root() with an input value of -4. Since this input value is negative, the function raises a NegativeNumberError, which we catch in the except block. We print the custom error message associated with the exception using the as keyword to create an instance of the NegativeNumberError class.'''"
   ]
  },
  {
   "cell_type": "code",
   "execution_count": null,
   "id": "2606162e",
   "metadata": {},
   "outputs": [],
   "source": []
  }
 ],
 "metadata": {
  "kernelspec": {
   "display_name": "Python 3 (ipykernel)",
   "language": "python",
   "name": "python3"
  },
  "language_info": {
   "codemirror_mode": {
    "name": "ipython",
    "version": 3
   },
   "file_extension": ".py",
   "mimetype": "text/x-python",
   "name": "python",
   "nbconvert_exporter": "python",
   "pygments_lexer": "ipython3",
   "version": "3.9.13"
  },
  "varInspector": {
   "cols": {
    "lenName": 16,
    "lenType": 16,
    "lenVar": 40
   },
   "kernels_config": {
    "python": {
     "delete_cmd_postfix": "",
     "delete_cmd_prefix": "del ",
     "library": "var_list.py",
     "varRefreshCmd": "print(var_dic_list())"
    },
    "r": {
     "delete_cmd_postfix": ") ",
     "delete_cmd_prefix": "rm(",
     "library": "var_list.r",
     "varRefreshCmd": "cat(var_dic_list()) "
    }
   },
   "types_to_exclude": [
    "module",
    "function",
    "builtin_function_or_method",
    "instance",
    "_Feature"
   ],
   "window_display": false
  }
 },
 "nbformat": 4,
 "nbformat_minor": 5
}
