{
 "cells": [
  {
   "cell_type": "code",
   "execution_count": 3,
   "id": "3291840d",
   "metadata": {},
   "outputs": [
    {
     "data": {
      "text/plain": [
       "'Q1. Which function is used to open a file? What are the different modes of opening a file? Explain each mode of file opening.'"
      ]
     },
     "execution_count": 3,
     "metadata": {},
     "output_type": "execute_result"
    }
   ],
   "source": [
    "'''Q1. Which function is used to open a file? What are the different modes of opening a file? Explain each mode of file opening.'''"
   ]
  },
  {
   "cell_type": "code",
   "execution_count": 4,
   "id": "d759d9f2",
   "metadata": {},
   "outputs": [
    {
     "data": {
      "text/plain": [
       "'\\nIn Python, the built-in open() function is used to open a file.\\n\\nThere are several modes of opening a file:\\n\\nr: Read mode. Opens the file for reading (default mode).\\nw: Write mode. Opens the file for writing. If the file already exists, it will be truncated to zero length. If the file does not exist, a new file will be created.\\na: Append mode. Opens the file for writing. If the file already exists, the data is written at the end of the file. If the file does not exist, a new file will be created.\\nx: Exclusive creation mode. Creates a new file, but raises an error if the file already exists.\\nb: Binary mode. Opens the file in binary mode.\\nt: Text mode. Opens the file in text mode (default mode).\\n+: Update mode. Opens the file for updating (reading and writing).ipynb_checkpoints/\\n'"
      ]
     },
     "execution_count": 4,
     "metadata": {},
     "output_type": "execute_result"
    }
   ],
   "source": [
    "'''\n",
    "In Python, the built-in open() function is used to open a file.\n",
    "\n",
    "There are several modes of opening a file:\n",
    "\n",
    "r: Read mode. Opens the file for reading (default mode).\n",
    "w: Write mode. Opens the file for writing. If the file already exists, it will be truncated to zero length. If the file does not exist, a new file will be created.\n",
    "a: Append mode. Opens the file for writing. If the file already exists, the data is written at the end of the file. If the file does not exist, a new file will be created.\n",
    "x: Exclusive creation mode. Creates a new file, but raises an error if the file already exists.\n",
    "b: Binary mode. Opens the file in binary mode.\n",
    "t: Text mode. Opens the file in text mode (default mode).\n",
    "+: Update mode. Opens the file for updating (reading and writing)\n",
    "'''"
   ]
  },
  {
   "cell_type": "code",
   "execution_count": null,
   "id": "375e356f",
   "metadata": {},
   "outputs": [],
   "source": []
  },
  {
   "cell_type": "code",
   "execution_count": 6,
   "id": "f2898197",
   "metadata": {},
   "outputs": [
    {
     "data": {
      "text/plain": [
       "'Q2. Why close() function is used? Why is it important to close a file?'"
      ]
     },
     "execution_count": 6,
     "metadata": {},
     "output_type": "execute_result"
    }
   ],
   "source": [
    "'''Q2. Why close() function is used? Why is it important to close a file?'''"
   ]
  },
  {
   "cell_type": "code",
   "execution_count": 13,
   "id": "b42a11f2",
   "metadata": {},
   "outputs": [
    {
     "data": {
      "text/plain": [
       "'\\nIn Python, the close() function is used to close a file after it has been opened. It is important to close a file after opening \\nit because it releases the resources associated with the file, such as memory and system file handles.\\n\\nIf a file is not closed after opening, it may cause a number of issues, such as:\\n\\nThe data written to the file may not be saved properly.\\nThe file may become corrupted.\\nThe file may remain locked, making it impossible to access it from other programs.\\nThe file handle may remain open, taking up system resources and causing other problems.\\nTherefore, it is a good practice to always close a file after opening it. The close() function should be used immediately after \\nthe file has been read from or written to, or after all operations on the file have been completed.\\n'"
      ]
     },
     "execution_count": 13,
     "metadata": {},
     "output_type": "execute_result"
    }
   ],
   "source": [
    "'''\n",
    "In Python, the close() function is used to close a file after it has been opened. It is important to close a file after opening \n",
    "it because it releases the resources associated with the file, such as memory and system file handles.\n",
    "\n",
    "If a file is not closed after opening, it may cause a number of issues, such as:\n",
    "\n",
    "The data written to the file may not be saved properly.\n",
    "The file may become corrupted.\n",
    "The file may remain locked, making it impossible to access it from other programs.\n",
    "The file handle may remain open, taking up system resources and causing other problems.\n",
    "Therefore, it is a good practice to always close a file after opening it. The close() function should be used immediately after \n",
    "the file has been read from or written to, or after all operations on the file have been completed.\n",
    "'''"
   ]
  },
  {
   "cell_type": "code",
   "execution_count": 15,
   "id": "e8b7a56a",
   "metadata": {},
   "outputs": [
    {
     "data": {
      "text/plain": [
       "'Q3. Write a python program to create a text file. Write ‘I want to become a Data Scientist’ in that file. Then close \\n the file. Open this file and read the content of the file.'"
      ]
     },
     "execution_count": 15,
     "metadata": {},
     "output_type": "execute_result"
    }
   ],
   "source": [
    "'''Q3. Write a python program to create a text file. Write ‘I want to become a Data Scientist’ in that file. Then close \n",
    " the file. Open this file and read the content of the file.'''"
   ]
  },
  {
   "cell_type": "code",
   "execution_count": 27,
   "id": "8b42f94c",
   "metadata": {},
   "outputs": [
    {
     "name": "stdout",
     "output_type": "stream",
     "text": [
      "I  want to become a Data Scientist\n"
     ]
    }
   ],
   "source": [
    "# create and write text file\n",
    "with open(\"data_scientist.txt\",\"w\") as file:\n",
    "    file.write(\"I  want to become a Data Scientist\")\n",
    "# close file\n",
    "file.close()\n",
    "#open and read text of the file\n",
    "\n",
    "with open(\"data_scientist.txt\",\"r\") as file:\n",
    "    test=file.read()\n",
    "    print(test)"
   ]
  },
  {
   "cell_type": "code",
   "execution_count": 28,
   "id": "2c614e2d",
   "metadata": {},
   "outputs": [
    {
     "data": {
      "text/plain": [
       "'Q4. Explain the following with python code: read(), readline() and readlines().'"
      ]
     },
     "execution_count": 28,
     "metadata": {},
     "output_type": "execute_result"
    }
   ],
   "source": [
    "'''Q4. Explain the following with python code: read(), readline() and readlines().'''"
   ]
  },
  {
   "cell_type": "code",
   "execution_count": 29,
   "id": "51963208",
   "metadata": {},
   "outputs": [
    {
     "data": {
      "text/plain": [
       "'\\n read(), readline(), and readlines() are methods in Python that can be used to read data from a file.\\n\\n read() method is used to read the entire content of a file as a single string. It takes an optional parameter that specifies \\n the maximum number of bytes to be read from the file.\\n'"
      ]
     },
     "execution_count": 29,
     "metadata": {},
     "output_type": "execute_result"
    }
   ],
   "source": [
    "'''\n",
    " read(), readline(), and readlines() are methods in Python that can be used to read data from a file.\n",
    "\n",
    " read() method is used to read the entire content of a file as a single string. It takes an optional parameter that specifies \n",
    " the maximum number of bytes to be read from the file.\n",
    "'''"
   ]
  },
  {
   "cell_type": "code",
   "execution_count": 36,
   "id": "51461f1a",
   "metadata": {},
   "outputs": [
    {
     "name": "stdout",
     "output_type": "stream",
     "text": [
      "I  want to become a Data Scientist. I have good knowledge in python and its library. Ml model is best for taining the data.\n"
     ]
    }
   ],
   "source": [
    "# Opening file for reading\n",
    "with open(\"data_scientist.txt\",\"w\") as file:\n",
    "    file.write(\"I  want to become a Data Scientist. I have good knowledge in python and its library. Ml model is best for taining the data.\")\n",
    "f = open('data_scientist.txt', 'r')\n",
    "\n",
    "# Reading the entire content of the file\n",
    "content = f.read()\n",
    "\n",
    "# Closing the file\n",
    "f.close()\n",
    "\n",
    "# Displaying the content\n",
    "print(content)"
   ]
  },
  {
   "cell_type": "code",
   "execution_count": 37,
   "id": "bc8e75e9",
   "metadata": {},
   "outputs": [
    {
     "data": {
      "text/plain": [
       "'readline() method is used to read a single line from a file.\\n It reads characters from the current position in the file until it reaches the end of the line or the end of the file.'"
      ]
     },
     "execution_count": 37,
     "metadata": {},
     "output_type": "execute_result"
    }
   ],
   "source": [
    "'''readline() method is used to read a single line from a file.\n",
    " It reads characters from the current position in the file until it reaches the end of the line or the end of the file.'''"
   ]
  },
  {
   "cell_type": "code",
   "execution_count": 38,
   "id": "f87d809e",
   "metadata": {},
   "outputs": [
    {
     "name": "stdout",
     "output_type": "stream",
     "text": [
      "I  want to become a Data Scientist. I have good knowledge in python and its library. Ml model is best for taining the data.\n"
     ]
    }
   ],
   "source": [
    "# Opening file for reading\n",
    "f = open('data_scientist.txt', 'r')\n",
    "\n",
    "# Reading the first line of the file\n",
    "line = f.readline()\n",
    "\n",
    "# Closing the file\n",
    "f.close()\n",
    "\n",
    "# Displaying the line\n",
    "print(line)"
   ]
  },
  {
   "cell_type": "code",
   "execution_count": 39,
   "id": "c491ffcd",
   "metadata": {},
   "outputs": [
    {
     "data": {
      "text/plain": [
       "'readlines() method is used to read all the lines of a file and return them as a list of strings. \\n Each string in the list represents a single line from the file.'"
      ]
     },
     "execution_count": 39,
     "metadata": {},
     "output_type": "execute_result"
    }
   ],
   "source": [
    "'''readlines() method is used to read all the lines of a file and return them as a list of strings. \n",
    " Each string in the list represents a single line from the file.'''"
   ]
  },
  {
   "cell_type": "code",
   "execution_count": 40,
   "id": "a5411106",
   "metadata": {},
   "outputs": [
    {
     "name": "stdout",
     "output_type": "stream",
     "text": [
      "I  want to become a Data Scientist. I have good knowledge in python and its library. Ml model is best for taining the data.\n"
     ]
    }
   ],
   "source": [
    "# Opening file for reading\n",
    "f = open('data_scientist.txt', 'r')\n",
    "\n",
    "# Reading all the lines of the file\n",
    "lines = f.readlines()\n",
    "\n",
    "# Closing the file\n",
    "f.close()\n",
    "\n",
    "# Displaying the lines\n",
    "for line in lines:\n",
    "    print(line)"
   ]
  },
  {
   "cell_type": "code",
   "execution_count": 43,
   "id": "2a892453",
   "metadata": {},
   "outputs": [
    {
     "data": {
      "text/plain": [
       "'Q5. Explain why with statement is used with open(). What is the advantage of using with statement and \\n open() together?'"
      ]
     },
     "execution_count": 43,
     "metadata": {},
     "output_type": "execute_result"
    }
   ],
   "source": [
    "'''Q5. Explain why with statement is used with open(). What is the advantage of using with statement and \n",
    " open() together?'''"
   ]
  },
  {
   "cell_type": "code",
   "execution_count": 46,
   "id": "4629bba9",
   "metadata": {},
   "outputs": [
    {
     "data": {
      "text/plain": [
       "\"\\n In Python, the with statement is used to create a context in which an object is properly handled, used and disposed of. \\n In the case of file handling, the with statement is used to automatically close the file once the block inside the with statement is executed.\\n\\nThe advantage of using the with statement with open() is that it automatically takes care of closing the file, \\nso the programmer doesn't need to worry about manually closing the file. This is particularly useful in case of unexpected\\n errors or exceptions that might occur while accessing or modifying the file. If an error occurs, the with statement will \\n  still ensure that the file is properly closed, avoiding any potential data corruption or loss.\\n\""
      ]
     },
     "execution_count": 46,
     "metadata": {},
     "output_type": "execute_result"
    }
   ],
   "source": [
    "'''\n",
    " In Python, the with statement is used to create a context in which an object is properly handled, used and disposed of. \n",
    " In the case of file handling, the with statement is used to automatically close the file once the block inside the with statement is executed.\n",
    "\n",
    "The advantage of using the with statement with open() is that it automatically takes care of closing the file, \n",
    "so the programmer doesn't need to worry about manually closing the file. This is particularly useful in case of unexpected\n",
    " errors or exceptions that might occur while accessing or modifying the file. If an error occurs, the with statement will \n",
    "  still ensure that the file is properly closed, avoiding any potential data corruption or loss.\n",
    "'''"
   ]
  },
  {
   "cell_type": "code",
   "execution_count": 48,
   "id": "e773b289",
   "metadata": {},
   "outputs": [
    {
     "name": "stdout",
     "output_type": "stream",
     "text": [
      "I  want to become a Data Scientist. I have good knowledge in python and its library. Ml model is best for taining the data.\n"
     ]
    }
   ],
   "source": [
    "# Open file using 'with' statement\n",
    "with open('data_scientist.txt', 'r') as f:\n",
    "    # Perform file operations\n",
    "    data = f.read()\n",
    "    print(data)\n",
    "    \n",
    "# File is automatically closed when block inside 'with' statement is finished executing"
   ]
  },
  {
   "cell_type": "code",
   "execution_count": 49,
   "id": "afc9aa4a",
   "metadata": {},
   "outputs": [
    {
     "data": {
      "text/plain": [
       "'Q6. Explain the write() and writelines() functions. Give a suitable example.'"
      ]
     },
     "execution_count": 49,
     "metadata": {},
     "output_type": "execute_result"
    }
   ],
   "source": [
    "'''Q6. Explain the write() and writelines() functions. Give a suitable example.'''"
   ]
  },
  {
   "cell_type": "code",
   "execution_count": 50,
   "id": "4978be25",
   "metadata": {},
   "outputs": [
    {
     "data": {
      "text/plain": [
       "'\\nThe write() and writelines() functions are used to write data to a file.\\n\\n The write() function is used to write a string to the file. It takes a string as an argument and writes it to the file. \\n If the file already exists, it will overwrite the existing data. \\n If the file does not exist, it will create a new file with the given name and write the data to it.\\n'"
      ]
     },
     "execution_count": 50,
     "metadata": {},
     "output_type": "execute_result"
    }
   ],
   "source": [
    "'''\n",
    "The write() and writelines() functions are used to write data to a file.\n",
    "\n",
    " The write() function is used to write a string to the file. It takes a string as an argument and writes it to the file. \n",
    " If the file already exists, it will overwrite the existing data. \n",
    " If the file does not exist, it will create a new file with the given name and write the data to it.\n",
    "'''"
   ]
  },
  {
   "cell_type": "code",
   "execution_count": 57,
   "id": "975298d9",
   "metadata": {},
   "outputs": [],
   "source": [
    "#Example\n",
    "\n",
    "# opening a file in write mode\n",
    "file = open(\"example.txt\", \"w\")\n",
    "\n",
    "# writing a string to the file\n",
    "\n",
    "file.write(\"Hello, World!\\n\")\n",
    "data=file.write(\"This is an example file.\\n\")\n",
    "\n",
    "# closing the file\n",
    "file.close()"
   ]
  },
  {
   "cell_type": "code",
   "execution_count": 58,
   "id": "68b3b3fa",
   "metadata": {},
   "outputs": [
    {
     "data": {
      "text/plain": [
       "'The writelines() function is used to write a list of strings to a file. It takes a list of strings as an argument and \\n writes each string to the file. If the file already exists, it will overwrite the existing data. If the file does not exist, \\n it will create a new file with the given name and write the data to it.'"
      ]
     },
     "execution_count": 58,
     "metadata": {},
     "output_type": "execute_result"
    }
   ],
   "source": [
    "'''The writelines() function is used to write a list of strings to a file. It takes a list of strings as an argument and \n",
    " writes each string to the file. If the file already exists, it will overwrite the existing data. If the file does not exist, \n",
    " it will create a new file with the given name and write the data to it.'''"
   ]
  },
  {
   "cell_type": "code",
   "execution_count": 59,
   "id": "72a58d84",
   "metadata": {},
   "outputs": [],
   "source": [
    "#example\n",
    "# opening a file in write mode\n",
    "file = open(\"example.txt\", \"w\")\n",
    "\n",
    "# writing a list of strings to the file\n",
    "lines = [\"Hello, World!\\n\", \"This is an example file.\\n\"]\n",
    "file.writelines(lines)\n",
    "\n",
    "# closing the file\n",
    "file.close()"
   ]
  },
  {
   "cell_type": "code",
   "execution_count": 61,
   "id": "4c3d9104",
   "metadata": {},
   "outputs": [
    {
     "data": {
      "text/plain": [
       "'In both cases, the file is automatically closed after the data is written to it, so there is no need to explicitly call the close() function. \\nThis is possible due to the with statement, which takes care of opening and closing the file for us.'"
      ]
     },
     "execution_count": 61,
     "metadata": {},
     "output_type": "execute_result"
    }
   ],
   "source": [
    "'''In both cases, the file is automatically closed after the data is written to it, so there is no need to explicitly call the close() function. \n",
    "This is possible due to the with statement, which takes care of opening and closing the file for us.'''"
   ]
  },
  {
   "cell_type": "code",
   "execution_count": null,
   "id": "f4694cac",
   "metadata": {},
   "outputs": [],
   "source": []
  }
 ],
 "metadata": {
  "kernelspec": {
   "display_name": "Python 3 (ipykernel)",
   "language": "python",
   "name": "python3"
  },
  "language_info": {
   "codemirror_mode": {
    "name": "ipython",
    "version": 3
   },
   "file_extension": ".py",
   "mimetype": "text/x-python",
   "name": "python",
   "nbconvert_exporter": "python",
   "pygments_lexer": "ipython3",
   "version": "3.9.13"
  },
  "varInspector": {
   "cols": {
    "lenName": 16,
    "lenType": 16,
    "lenVar": 40
   },
   "kernels_config": {
    "python": {
     "delete_cmd_postfix": "",
     "delete_cmd_prefix": "del ",
     "library": "var_list.py",
     "varRefreshCmd": "print(var_dic_list())"
    },
    "r": {
     "delete_cmd_postfix": ") ",
     "delete_cmd_prefix": "rm(",
     "library": "var_list.r",
     "varRefreshCmd": "cat(var_dic_list()) "
    }
   },
   "types_to_exclude": [
    "module",
    "function",
    "builtin_function_or_method",
    "instance",
    "_Feature"
   ],
   "window_display": false
  }
 },
 "nbformat": 4,
 "nbformat_minor": 5
}
