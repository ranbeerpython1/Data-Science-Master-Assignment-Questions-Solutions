{
 "cells": [
  {
   "cell_type": "code",
   "execution_count": 1,
   "id": "4355f7c9",
   "metadata": {},
   "outputs": [],
   "source": [
    "#Q1. Which keyword is used to create a function? Create a function to return a list of odd numbers in the range of 1 to 25."
   ]
  },
  {
   "cell_type": "code",
   "execution_count": null,
   "id": "72433de3",
   "metadata": {},
   "outputs": [],
   "source": [
    "#In Python, the def keyword is used to create a function.\n",
    "\n",
    "#Here is an example of a function that returns a list of odd numbers in the range of 1 to 25:"
   ]
  },
  {
   "cell_type": "code",
   "execution_count": 10,
   "id": "80d2423b",
   "metadata": {},
   "outputs": [
    {
     "name": "stdout",
     "output_type": "stream",
     "text": [
      "[1, 3, 5, 7, 9, 11, 13, 15, 17, 19, 21, 23]\n"
     ]
    }
   ],
   "source": [
    "def odd_numbers():\n",
    "    odd_list =[]\n",
    "    for i in range(1,25):\n",
    "        if i % 2!=0:\n",
    "            odd_list.append(i)\n",
    "    return odd_list\n",
    "\n",
    "print(odd_numbers())"
   ]
  },
  {
   "cell_type": "code",
   "execution_count": 11,
   "id": "58e80ed9",
   "metadata": {},
   "outputs": [],
   "source": [
    "# In this code, the function odd_numbers uses a for loop to iterate through the range of numbers from 1 to 25.\n",
    "# The if statement checks if the current number is odd by checking if its remainder when divided by 2 is not equal to 0.\n",
    "# If the number is odd, it is added to the list odd_list. \n",
    "# The function returns the odd_list containing all the odd numbers in the specified range."
   ]
  },
  {
   "cell_type": "code",
   "execution_count": 15,
   "id": "a3ff38a4",
   "metadata": {},
   "outputs": [
    {
     "data": {
      "text/plain": [
       "' Q2. Why *args and **kwargs is used in some functions? Create a function each for *args and **kwargs \\nto demonstrate their use.'"
      ]
     },
     "execution_count": 15,
     "metadata": {},
     "output_type": "execute_result"
    }
   ],
   "source": [
    "''' Q2. Why *args and **kwargs is used in some functions? Create a function each for *args and **kwargs \n",
    "to demonstrate their use.'''"
   ]
  },
  {
   "cell_type": "code",
   "execution_count": 18,
   "id": "ccf76463",
   "metadata": {},
   "outputs": [
    {
     "data": {
      "text/plain": [
       "'The *args and **kwargs syntax in Python allows you to pass a variable number of arguments to a function.\\n\\nThe *args syntax allows you to pass a variable number of non-keyword arguments to a function. The arguments are passed as a tuple.\\nThe **kwargs syntax allows you to pass a variable number of keyword arguments to a function.\\nThe arguments are passed as a dictionary.\\n'"
      ]
     },
     "execution_count": 18,
     "metadata": {},
     "output_type": "execute_result"
    }
   ],
   "source": [
    "'''The *args and **kwargs syntax in Python allows you to pass a variable number of arguments to a function.\n",
    "\n",
    "The *args syntax allows you to pass a variable number of non-keyword arguments to a function. The arguments are passed as a tuple.\n",
    "The **kwargs syntax allows you to pass a variable number of keyword arguments to a function.\n",
    "The arguments are passed as a dictionary.\n",
    "'''\n"
   ]
  },
  {
   "cell_type": "code",
   "execution_count": 19,
   "id": "fb8833d1",
   "metadata": {},
   "outputs": [
    {
     "name": "stdout",
     "output_type": "stream",
     "text": [
      "15\n"
     ]
    }
   ],
   "source": [
    "#Here is an example of a function that uses *args:\n",
    "\n",
    "def sum_of_numbers(*args):\n",
    "    sum = 0\n",
    "    for i in args:\n",
    "        sum += i\n",
    "    return sum\n",
    "\n",
    "print(sum_of_numbers(1, 2, 3, 4, 5))"
   ]
  },
  {
   "cell_type": "code",
   "execution_count": 20,
   "id": "88157844",
   "metadata": {},
   "outputs": [
    {
     "data": {
      "text/plain": [
       "'\\nIn this code, the function sum_of_numbers takes a variable number of arguments using the *args syntax. \\nThe function then iterates through the arguments using a for loop and adds each argument to the sum variable. \\nFinally, the function returns the sum of all the arguments.\\n'"
      ]
     },
     "execution_count": 20,
     "metadata": {},
     "output_type": "execute_result"
    }
   ],
   "source": [
    "'''\n",
    "In this code, the function sum_of_numbers takes a variable number of arguments using the *args syntax. \n",
    "The function then iterates through the arguments using a for loop and adds each argument to the sum variable. \n",
    "Finally, the function returns the sum of all the arguments.\n",
    "'''\n"
   ]
  },
  {
   "cell_type": "code",
   "execution_count": 21,
   "id": "5eeffda6",
   "metadata": {},
   "outputs": [
    {
     "name": "stdout",
     "output_type": "stream",
     "text": [
      "first_name: John\n",
      "last_name: Doe\n",
      "age: 30\n"
     ]
    }
   ],
   "source": [
    "#Here is an example of a function that uses **kwargs:\n",
    "\n",
    "def print_keyword_arguments(**kwargs):\n",
    "    for key, value in kwargs.items():\n",
    "        print(f'{key}: {value}')\n",
    "\n",
    "print_keyword_arguments(first_name='John', last_name='Doe', age=30)\n",
    "\n"
   ]
  },
  {
   "cell_type": "code",
   "execution_count": 23,
   "id": "1bc14c32",
   "metadata": {},
   "outputs": [
    {
     "data": {
      "text/plain": [
       "'In this code, the function print_keyword_arguments takes a variable number of keyword arguments using the **kwargs syntax. \\n The function then iterates through the keyword arguments using a for loop and prints each key-value pair.'"
      ]
     },
     "execution_count": 23,
     "metadata": {},
     "output_type": "execute_result"
    }
   ],
   "source": [
    "'''In this code, the function print_keyword_arguments takes a variable number of keyword arguments using the **kwargs syntax. \n",
    " The function then iterates through the keyword arguments using a for loop and prints each key-value pair.'''"
   ]
  },
  {
   "cell_type": "code",
   "execution_count": 33,
   "id": "8f627190",
   "metadata": {},
   "outputs": [
    {
     "data": {
      "text/plain": [
       "'Q3. What is an iterator in python? Name the method used to initialise the iterator object and the method \\n used for iteration. Use these methods to print the first five elements of the given list [2, 4, 6, 8, 10, 12, 14, 16, 18, 20].'"
      ]
     },
     "execution_count": 33,
     "metadata": {},
     "output_type": "execute_result"
    }
   ],
   "source": [
    "'''Q3. What is an iterator in python? Name the method used to initialise the iterator object and the method \n",
    " used for iteration. Use these methods to print the first five elements of the given list [2, 4, 6, 8, 10, 12, 14, 16, 18, 20].'''\n"
   ]
  },
  {
   "cell_type": "code",
   "execution_count": 34,
   "id": "6fa3520a",
   "metadata": {},
   "outputs": [
    {
     "data": {
      "text/plain": [
       "'\\n An iterator in Python is an object that can be iterated (looped) upon. \\n An object which returns data, one element at a time when iterated over is called an iterator. \\n In Python, an iterator is an object that implements the iter() method, which is called to initialize the iterator object. \\n The iter() method returns an iterator object that implements the __next__() method, which is used for iteration. \\n The __next__() method returns the next value from the iterator. \\n If there are no more items to return, it should raise StopIteration.\\n'"
      ]
     },
     "execution_count": 34,
     "metadata": {},
     "output_type": "execute_result"
    }
   ],
   "source": [
    "'''\n",
    " An iterator in Python is an object that can be iterated (looped) upon. \n",
    " An object which returns data, one element at a time when iterated over is called an iterator. \n",
    " In Python, an iterator is an object that implements the iter() method, which is called to initialize the iterator object. \n",
    " The iter() method returns an iterator object that implements the __next__() method, which is used for iteration. \n",
    " The __next__() method returns the next value from the iterator. \n",
    " If there are no more items to return, it should raise StopIteration.\n",
    "'''\n"
   ]
  },
  {
   "cell_type": "code",
   "execution_count": 29,
   "id": "988d7e07",
   "metadata": {},
   "outputs": [
    {
     "name": "stdout",
     "output_type": "stream",
     "text": [
      "2\n",
      "4\n",
      "6\n",
      "8\n",
      "10\n"
     ]
    }
   ],
   "source": [
    "#Here is an example of using an iterator to print the first five elements of a list:\n",
    "\n",
    "my_list = [2, 4, 6, 8, 10, 12, 14, 16, 18, 20]\n",
    "my_iterator = iter(my_list)\n",
    "\n",
    "for i in range(5):\n",
    "    print(next(my_iterator))\n"
   ]
  },
  {
   "cell_type": "code",
   "execution_count": 30,
   "id": "bd8b4144",
   "metadata": {},
   "outputs": [
    {
     "data": {
      "text/plain": [
       "'In this code, the iter() method is used to initialize the iterator object, my_iterator, from the list my_list.\\nThe for loop then calls the next() method five times to retrieve the first five elements of the list.'"
      ]
     },
     "execution_count": 30,
     "metadata": {},
     "output_type": "execute_result"
    }
   ],
   "source": [
    "'''In this code, the iter() method is used to initialize the iterator object, my_iterator, from the list my_list.\n",
    "The for loop then calls the next() method five times to retrieve the first five elements of the list.'''"
   ]
  },
  {
   "cell_type": "code",
   "execution_count": 36,
   "id": "5730d21a",
   "metadata": {},
   "outputs": [
    {
     "data": {
      "text/plain": [
       "'Q4. What is a generator function in python? Why yield keyword is used? Give an example of a generator function.'"
      ]
     },
     "execution_count": 36,
     "metadata": {},
     "output_type": "execute_result"
    }
   ],
   "source": [
    "'''Q4. What is a generator function in python? Why yield keyword is used? Give an example of a generator function.'''"
   ]
  },
  {
   "cell_type": "code",
   "execution_count": 38,
   "id": "353f8557",
   "metadata": {},
   "outputs": [
    {
     "data": {
      "text/plain": [
       "'A generator function in Python is a special type of function that returns a generator iterator. \\nThe generator function is defined like a normal function, but instead of returning a value using the return keyword, \\nit yields a value using the yield keyword. Each time the generator function is called, \\n\\nit will execute until it encounters the yield keyword and then pause the function, returning the value \\nthat was specified in the yield statement. The function can be resumed from where it left off the next time it is called.\\n\\nThe yield keyword is used in generator functions because it allows them to produce a series of values, one at a time,\\ninstead of creating a list of values and returning them all at once. This can be useful for processing large data sets, \\nas the generator can produce values on-the-fly, reducing memory usage.\\n'"
      ]
     },
     "execution_count": 38,
     "metadata": {},
     "output_type": "execute_result"
    }
   ],
   "source": [
    "'''A generator function in Python is a special type of function that returns a generator iterator. \n",
    "The generator function is defined like a normal function, but instead of returning a value using the return keyword, \n",
    "it yields a value using the yield keyword. Each time the generator function is called, \n",
    "\n",
    "it will execute until it encounters the yield keyword and then pause the function, returning the value \n",
    "that was specified in the yield statement. The function can be resumed from where it left off the next time it is called.\n",
    "\n",
    "The yield keyword is used in generator functions because it allows them to produce a series of values, one at a time,\n",
    "instead of creating a list of values and returning them all at once. This can be useful for processing large data sets, \n",
    "as the generator can produce values on-the-fly, reducing memory usage.\n",
    "'''\n"
   ]
  },
  {
   "cell_type": "code",
   "execution_count": 44,
   "id": "92ef1a29",
   "metadata": {},
   "outputs": [
    {
     "name": "stdout",
     "output_type": "stream",
     "text": [
      "0\n",
      "1\n",
      "4\n",
      "9\n",
      "16\n"
     ]
    }
   ],
   "source": [
    "#Here is an example of a generator function that generates the square of each number in a range:\n",
    "\n",
    "def square_numbers(n):\n",
    "    for i in range(n):\n",
    "        yield i**2\n",
    "\n",
    "for number in square_numbers(5):\n",
    "    print(number)"
   ]
  },
  {
   "cell_type": "code",
   "execution_count": 45,
   "id": "9f68cb5c",
   "metadata": {},
   "outputs": [
    {
     "data": {
      "text/plain": [
       "\"In this code, the generator function square_numbers() takes an argument 'n' and 'yields' the square of each number in the range 0 to n-1. \\n The for loop then iterates over the generator, printing the square of each number in the range.\""
      ]
     },
     "execution_count": 45,
     "metadata": {},
     "output_type": "execute_result"
    }
   ],
   "source": [
    "'''In this code, the generator function square_numbers() takes an argument 'n' and 'yields' the square of each number in the range 0 to n-1. \n",
    " The for loop then iterates over the generator, printing the square of each number in the range.'''"
   ]
  },
  {
   "cell_type": "code",
   "execution_count": 47,
   "id": "a48a04b1",
   "metadata": {},
   "outputs": [
    {
     "data": {
      "text/plain": [
       "'Q5. Create a generator function for prime numbers less than 1000. Use the next() method to print the\\n first 20 prime numbers.'"
      ]
     },
     "execution_count": 47,
     "metadata": {},
     "output_type": "execute_result"
    }
   ],
   "source": [
    "'''Q5. Create a generator function for prime numbers less than 1000. Use the next() method to print the\n",
    " first 20 prime numbers.'''"
   ]
  },
  {
   "cell_type": "code",
   "execution_count": 48,
   "id": "38f2b520",
   "metadata": {},
   "outputs": [
    {
     "name": "stdout",
     "output_type": "stream",
     "text": [
      "2\n",
      "3\n",
      "5\n",
      "7\n",
      "11\n",
      "13\n",
      "17\n",
      "19\n",
      "23\n",
      "29\n",
      "31\n",
      "37\n",
      "41\n",
      "43\n",
      "47\n",
      "53\n",
      "59\n",
      "61\n",
      "67\n",
      "71\n"
     ]
    }
   ],
   "source": [
    "#Here is a generator function that yields prime numbers less than 1000:\n",
    "\n",
    "def prime_numbers():\n",
    "    yield 2\n",
    "    primes = [2]\n",
    "    for i in range(3, 1000):\n",
    "        is_prime = True\n",
    "        for j in primes:\n",
    "            if i % j == 0:\n",
    "                is_prime = False\n",
    "                break\n",
    "        if is_prime:\n",
    "            primes.append(i)\n",
    "            yield i\n",
    "\n",
    "primes = prime_numbers()\n",
    "for i in range(20):\n",
    "    print(next(primes))\n"
   ]
  },
  {
   "cell_type": "code",
   "execution_count": 50,
   "id": "64f9ab00",
   "metadata": {},
   "outputs": [
    {
     "data": {
      "text/plain": [
       "\"In this code, the generator function 'prime_numbers()'' yields prime numbers less than 1000. \\nThe for loop then calls the next() method 20 times to print the first 20 prime numbers. \\nThe 'next()'' method retrieves the next value from the generator iterator. \\nIf there are no more values to retrieve, it raises a StopIteration exception.\""
      ]
     },
     "execution_count": 50,
     "metadata": {},
     "output_type": "execute_result"
    }
   ],
   "source": [
    "'''In this code, the generator function 'prime_numbers()'' yields prime numbers less than 1000. \n",
    "The for loop then calls the next() method 20 times to print the first 20 prime numbers. \n",
    "The 'next()'' method retrieves the next value from the generator iterator. \n",
    "If there are no more values to retrieve, it raises a StopIteration exception.'''"
   ]
  },
  {
   "cell_type": "code",
   "execution_count": null,
   "id": "fb996a42",
   "metadata": {},
   "outputs": [],
   "source": []
  },
  {
   "cell_type": "code",
   "execution_count": null,
   "id": "7ea126a9",
   "metadata": {},
   "outputs": [],
   "source": []
  }
 ],
 "metadata": {
  "kernelspec": {
   "display_name": "Python 3 (ipykernel)",
   "language": "python",
   "name": "python3"
  },
  "language_info": {
   "codemirror_mode": {
    "name": "ipython",
    "version": 3
   },
   "file_extension": ".py",
   "mimetype": "text/x-python",
   "name": "python",
   "nbconvert_exporter": "python",
   "pygments_lexer": "ipython3",
   "version": "3.9.13"
  },
  "varInspector": {
   "cols": {
    "lenName": 16,
    "lenType": 16,
    "lenVar": 40
   },
   "kernels_config": {
    "python": {
     "delete_cmd_postfix": "",
     "delete_cmd_prefix": "del ",
     "library": "var_list.py",
     "varRefreshCmd": "print(var_dic_list())"
    },
    "r": {
     "delete_cmd_postfix": ") ",
     "delete_cmd_prefix": "rm(",
     "library": "var_list.r",
     "varRefreshCmd": "cat(var_dic_list()) "
    }
   },
   "types_to_exclude": [
    "module",
    "function",
    "builtin_function_or_method",
    "instance",
    "_Feature"
   ],
   "window_display": false
  }
 },
 "nbformat": 4,
 "nbformat_minor": 5
}
