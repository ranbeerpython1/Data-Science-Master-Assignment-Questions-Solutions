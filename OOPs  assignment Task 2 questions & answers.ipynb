{
 "cells": [
  {
   "cell_type": "code",
   "execution_count": 2,
   "id": "cb95297d",
   "metadata": {},
   "outputs": [
    {
     "data": {
      "text/plain": [
       "'Q1, Create a vehicle class with an init method having instance variables as name_of_vehicle, max_speed\\n and average_of_vehicle.'"
      ]
     },
     "execution_count": 2,
     "metadata": {},
     "output_type": "execute_result"
    }
   ],
   "source": [
    "'''Q1, Create a vehicle class with an init method having instance variables as name_of_vehicle, max_speed\n",
    " and average_of_vehicle.'''"
   ]
  },
  {
   "cell_type": "code",
   "execution_count": 4,
   "id": "ef562392",
   "metadata": {},
   "outputs": [
    {
     "data": {
      "text/plain": [
       "\"Here's an example implementation of the Vehicle class with __init__ method and instance variables:\""
      ]
     },
     "execution_count": 4,
     "metadata": {},
     "output_type": "execute_result"
    }
   ],
   "source": [
    "'''Here's an example implementation of the Vehicle class with __init__ method and instance variables:'''"
   ]
  },
  {
   "cell_type": "code",
   "execution_count": 7,
   "id": "20bc0c4d",
   "metadata": {},
   "outputs": [],
   "source": [
    "class vehicle:\n",
    "    def __init__ (self, name_of_vehicle,max_speed,average_of_vehicle):\n",
    "        self.name_of_vehicle = name_of_vehicle\n",
    "        self.max_speed = max_speed\n",
    "        self.average_of_vehicle = average_of_vehicle"
   ]
  },
  {
   "cell_type": "code",
   "execution_count": 6,
   "id": "fbd9fa58",
   "metadata": {},
   "outputs": [
    {
     "data": {
      "text/plain": [
       "'In this class, name_of_vehicle, max_speed, and average_of_vehicle are the instance variables. \\nThe __init__ method initializes these instance variables when the class is instantiated.'"
      ]
     },
     "execution_count": 6,
     "metadata": {},
     "output_type": "execute_result"
    }
   ],
   "source": [
    "'''In this class, name_of_vehicle, max_speed, and average_of_vehicle are the instance variables. \n",
    "The __init__ method initializes these instance variables when the class is instantiated.'''"
   ]
  },
  {
   "cell_type": "code",
   "execution_count": 17,
   "id": "2857eae8",
   "metadata": {},
   "outputs": [],
   "source": [
    "car = vehicle(\"Toyota Fortuner\", 140, 45)"
   ]
  },
  {
   "cell_type": "code",
   "execution_count": 18,
   "id": "b834318c",
   "metadata": {},
   "outputs": [
    {
     "data": {
      "text/plain": [
       "45"
      ]
     },
     "execution_count": 18,
     "metadata": {},
     "output_type": "execute_result"
    }
   ],
   "source": [
    "car.average_of_vehicle"
   ]
  },
  {
   "cell_type": "code",
   "execution_count": 19,
   "id": "6482e979",
   "metadata": {},
   "outputs": [
    {
     "data": {
      "text/plain": [
       "140"
      ]
     },
     "execution_count": 19,
     "metadata": {},
     "output_type": "execute_result"
    }
   ],
   "source": [
    "car.max_speed"
   ]
  },
  {
   "cell_type": "code",
   "execution_count": 20,
   "id": "c7de62f5",
   "metadata": {},
   "outputs": [
    {
     "data": {
      "text/plain": [
       "'Toyota Fortuner'"
      ]
     },
     "execution_count": 20,
     "metadata": {},
     "output_type": "execute_result"
    }
   ],
   "source": [
    "car.name_of_vehicle"
   ]
  },
  {
   "cell_type": "code",
   "execution_count": 22,
   "id": "2d0ba7aa",
   "metadata": {},
   "outputs": [
    {
     "data": {
      "text/plain": [
       "'Q2. Create a child class car from the vehicle class created in Que 1, which will inherit the vehicle class.\\n  Create a method named seating_capacity which takes capacity as an argument and returns the name of\\n the vehicle and its seating capacity.'"
      ]
     },
     "execution_count": 22,
     "metadata": {},
     "output_type": "execute_result"
    }
   ],
   "source": [
    "'''Q2. Create a child class car from the vehicle class created in Que 1, which will inherit the vehicle class.\n",
    "  Create a method named seating_capacity which takes capacity as an argument and returns the name of\n",
    " the vehicle and its seating capacity.'''"
   ]
  },
  {
   "cell_type": "code",
   "execution_count": 57,
   "id": "e3d00cc5",
   "metadata": {},
   "outputs": [],
   "source": [
    "class vehicle:\n",
    "    def __init__ (self, name_of_vehicle,max_speed,average_of_vehicle):\n",
    "        self.name_of_vehicle = name_of_vehicle\n",
    "        self.max_speed = max_speed\n",
    "        self.average_of_vehicle = average_of_vehicle\n",
    "        \n",
    "class Car_vehicle:\n",
    "    def seating_capacity(self, capacity):\n",
    "        self.capacity=capacity\n",
    "        return \"Capacity of 5 people\"\n",
    "        "
   ]
  },
  {
   "cell_type": "code",
   "execution_count": 58,
   "id": "c0de6ee4",
   "metadata": {},
   "outputs": [],
   "source": [
    "car = vehicle(\"Toyota Fortuner\", 140, 45)"
   ]
  },
  {
   "cell_type": "code",
   "execution_count": 59,
   "id": "1751a245",
   "metadata": {},
   "outputs": [],
   "source": [
    "seat_cap= Car_vehicle()"
   ]
  },
  {
   "cell_type": "code",
   "execution_count": 61,
   "id": "97092556",
   "metadata": {},
   "outputs": [
    {
     "data": {
      "text/plain": [
       "<bound method Car_vehicle.seating_capacity of <__main__.Car_vehicle object at 0x000001C0516A2A60>>"
      ]
     },
     "execution_count": 61,
     "metadata": {},
     "output_type": "execute_result"
    }
   ],
   "source": [
    "seat_cap.seating_capacity"
   ]
  },
  {
   "cell_type": "code",
   "execution_count": 62,
   "id": "b408be2f",
   "metadata": {},
   "outputs": [
    {
     "data": {
      "text/plain": [
       "'Q3. What is multiple inheritance? Write a python code to demonstrate multiple inheritance.'"
      ]
     },
     "execution_count": 62,
     "metadata": {},
     "output_type": "execute_result"
    }
   ],
   "source": [
    "'''Q3. What is multiple inheritance? Write a python code to demonstrate multiple inheritance.'''"
   ]
  },
  {
   "cell_type": "code",
   "execution_count": 63,
   "id": "b67f058d",
   "metadata": {},
   "outputs": [
    {
     "data": {
      "text/plain": [
       "'Multiple inheritance is a feature of Object-Oriented Programming (OOP) \\n that allows a class to inherit properties and behavior from more than one parent class.\\n\\nIn multiple inheritance, a class can inherit from multiple base classes. In this case, the derived class inherits \\n all the methods and attributes of all the parent classes.'"
      ]
     },
     "execution_count": 63,
     "metadata": {},
     "output_type": "execute_result"
    }
   ],
   "source": [
    "'''Multiple inheritance is a feature of Object-Oriented Programming (OOP) \n",
    " that allows a class to inherit properties and behavior from more than one parent class.\n",
    "\n",
    "In multiple inheritance, a class can inherit from multiple base classes. In this case, the derived class inherits \n",
    " all the methods and attributes of all the parent classes.'''"
   ]
  },
  {
   "cell_type": "code",
   "execution_count": 88,
   "id": "2b4c65f0",
   "metadata": {},
   "outputs": [],
   "source": [
    "class class1:\n",
    "    def test_class1(self):\n",
    "        print(\"this is my class1\")\n",
    "class class2:\n",
    "    def test_class2(self):\n",
    "        print(\"this is my class2\")\n",
    "class class3(class1,class2):\n",
    "    def test_class3(self):\n",
    "        print(\"this is my class3\")\n",
    "    "
   ]
  },
  {
   "cell_type": "code",
   "execution_count": 89,
   "id": "77caee7c",
   "metadata": {},
   "outputs": [],
   "source": [
    "obj_class3 = class3()"
   ]
  },
  {
   "cell_type": "code",
   "execution_count": 90,
   "id": "ebd67a7c",
   "metadata": {},
   "outputs": [
    {
     "name": "stdout",
     "output_type": "stream",
     "text": [
      "this is my class1\n"
     ]
    }
   ],
   "source": [
    "obj_class3.test_class1()"
   ]
  },
  {
   "cell_type": "code",
   "execution_count": 91,
   "id": "6b4ca65f",
   "metadata": {},
   "outputs": [
    {
     "name": "stdout",
     "output_type": "stream",
     "text": [
      "this is my class2\n"
     ]
    }
   ],
   "source": [
    "obj_class3.test_class2()"
   ]
  },
  {
   "cell_type": "code",
   "execution_count": 92,
   "id": "f5c39c95",
   "metadata": {},
   "outputs": [
    {
     "name": "stdout",
     "output_type": "stream",
     "text": [
      "this is my class3\n"
     ]
    }
   ],
   "source": [
    "obj_class3.test_class3()"
   ]
  },
  {
   "cell_type": "code",
   "execution_count": 94,
   "id": "61b8da0e",
   "metadata": {},
   "outputs": [
    {
     "data": {
      "text/plain": [
       "'Q4. What are getter and setter in python? Create a class and create a getter and a setter method in this class.'"
      ]
     },
     "execution_count": 94,
     "metadata": {},
     "output_type": "execute_result"
    }
   ],
   "source": [
    "'''Q4. What are getter and setter in python? Create a class and create a getter and a setter method in this class.'''"
   ]
  },
  {
   "cell_type": "code",
   "execution_count": 95,
   "id": "979c65e3",
   "metadata": {},
   "outputs": [
    {
     "data": {
      "text/plain": [
       "'In Python, getter and setter are methods used for accessing and modifying the value of an instance variable in a class. \\n The getter method is used to access the value of a private variable, while the setter method is used to set the value of a private variable.'"
      ]
     },
     "execution_count": 95,
     "metadata": {},
     "output_type": "execute_result"
    }
   ],
   "source": [
    "'''In Python, getter and setter are methods used for accessing and modifying the value of an instance variable in a class. \n",
    " The getter method is used to access the value of a private variable, while the setter method is used to set the value of a private variable.'''"
   ]
  },
  {
   "cell_type": "code",
   "execution_count": 96,
   "id": "161fe507",
   "metadata": {},
   "outputs": [],
   "source": [
    "class Student:\n",
    "    def __init__(self, name, age):\n",
    "        self.__name = name   # private instance variable\n",
    "        self.__age = age     # private instance variable\n",
    "        \n",
    "    def get_name(self):     # getter method for name\n",
    "        return self.__name\n",
    "    \n",
    "    def set_name(self, name):   # setter method for name\n",
    "        self.__name = name\n",
    "    \n",
    "    def get_age(self):      # getter method for age\n",
    "        return self.__age\n",
    "    \n",
    "    def set_age(self, age):    # setter method for age\n",
    "        self.__age = age\n"
   ]
  },
  {
   "cell_type": "code",
   "execution_count": 102,
   "id": "1168d2dd",
   "metadata": {},
   "outputs": [],
   "source": [
    "s = Student(\"Saurabh\", 20)"
   ]
  },
  {
   "cell_type": "code",
   "execution_count": 103,
   "id": "a16072f2",
   "metadata": {},
   "outputs": [
    {
     "data": {
      "text/plain": [
       "'Saurabh'"
      ]
     },
     "execution_count": 103,
     "metadata": {},
     "output_type": "execute_result"
    }
   ],
   "source": [
    "s.get_name()"
   ]
  },
  {
   "cell_type": "code",
   "execution_count": 104,
   "id": "fa7052c1",
   "metadata": {},
   "outputs": [
    {
     "data": {
      "text/plain": [
       "20"
      ]
     },
     "execution_count": 104,
     "metadata": {},
     "output_type": "execute_result"
    }
   ],
   "source": [
    "s.get_age()"
   ]
  },
  {
   "cell_type": "code",
   "execution_count": 106,
   "id": "8b933c2f",
   "metadata": {},
   "outputs": [],
   "source": [
    "s.set_age(26)"
   ]
  },
  {
   "cell_type": "code",
   "execution_count": 107,
   "id": "9794f8df",
   "metadata": {},
   "outputs": [],
   "source": [
    "s.set_name(\"puja\")"
   ]
  },
  {
   "cell_type": "code",
   "execution_count": 108,
   "id": "4d498f18",
   "metadata": {},
   "outputs": [
    {
     "data": {
      "text/plain": [
       "26"
      ]
     },
     "execution_count": 108,
     "metadata": {},
     "output_type": "execute_result"
    }
   ],
   "source": [
    "s.get_age()"
   ]
  },
  {
   "cell_type": "code",
   "execution_count": 110,
   "id": "ff4fae64",
   "metadata": {},
   "outputs": [
    {
     "data": {
      "text/plain": [
       "'puja'"
      ]
     },
     "execution_count": 110,
     "metadata": {},
     "output_type": "execute_result"
    }
   ],
   "source": [
    "s.get_name()"
   ]
  },
  {
   "cell_type": "code",
   "execution_count": 111,
   "id": "4af5febf",
   "metadata": {},
   "outputs": [
    {
     "data": {
      "text/plain": [
       "'Q5.What is method overriding in python? Write a python code to demonstrate method overriding.'"
      ]
     },
     "execution_count": 111,
     "metadata": {},
     "output_type": "execute_result"
    }
   ],
   "source": [
    "'''Q5.What is method overriding in python? Write a python code to demonstrate method overriding.'''"
   ]
  },
  {
   "cell_type": "code",
   "execution_count": 115,
   "id": "d6788abf",
   "metadata": {},
   "outputs": [
    {
     "data": {
      "text/plain": [
       "'Method overriding is a feature in object-oriented programming where a subclass provides \\nits own implementation of a method that is already defined in its parent class.\\n\\n'"
      ]
     },
     "execution_count": 115,
     "metadata": {},
     "output_type": "execute_result"
    }
   ],
   "source": [
    "'''Method overriding is a feature in object-oriented programming where a subclass provides \n",
    " its own implementation of a method that is already defined in its parent class.\n",
    "\n",
    "'''"
   ]
  },
  {
   "cell_type": "code",
   "execution_count": 117,
   "id": "c072ffb9",
   "metadata": {},
   "outputs": [
    {
     "data": {
      "text/plain": [
       "'In Python, method overriding is achieved by simply defining a method with the same name as the method in the parent class \\n in the child class. When an object of the child class is created, calling the method with the same name as the parent class\\n will invoke the implementation in the child class.'"
      ]
     },
     "execution_count": 117,
     "metadata": {},
     "output_type": "execute_result"
    }
   ],
   "source": [
    "'''In Python, method overriding is achieved by simply defining a method with the same name as the method in the parent class \n",
    " in the child class. When an object of the child class is created, calling the method with the same name as the parent class\n",
    " will invoke the implementation in the child class.'''"
   ]
  },
  {
   "cell_type": "code",
   "execution_count": 118,
   "id": "9aacf4dc",
   "metadata": {},
   "outputs": [
    {
     "name": "stdout",
     "output_type": "stream",
     "text": [
      "This animal makes a sound.\n",
      "The dog barks.\n",
      "The cat meows.\n"
     ]
    }
   ],
   "source": [
    "class Animal:\n",
    "    def sound(self):\n",
    "        print(\"This animal makes a sound.\")\n",
    "\n",
    "class Dog(Animal):\n",
    "    def sound(self):\n",
    "        print(\"The dog barks.\")\n",
    "\n",
    "class Cat(Animal):\n",
    "    def sound(self):\n",
    "        print(\"The cat meows.\")\n",
    "\n",
    "# Creating objects of the classes\n",
    "animal = Animal()\n",
    "dog = Dog()\n",
    "cat = Cat()\n",
    "\n",
    "# Calling the sound method on each object\n",
    "animal.sound()\n",
    "dog.sound()\n",
    "cat.sound()\n"
   ]
  },
  {
   "cell_type": "code",
   "execution_count": null,
   "id": "0f6eb52e",
   "metadata": {},
   "outputs": [],
   "source": []
  }
 ],
 "metadata": {
  "kernelspec": {
   "display_name": "Python 3 (ipykernel)",
   "language": "python",
   "name": "python3"
  },
  "language_info": {
   "codemirror_mode": {
    "name": "ipython",
    "version": 3
   },
   "file_extension": ".py",
   "mimetype": "text/x-python",
   "name": "python",
   "nbconvert_exporter": "python",
   "pygments_lexer": "ipython3",
   "version": "3.9.13"
  },
  "varInspector": {
   "cols": {
    "lenName": 16,
    "lenType": 16,
    "lenVar": 40
   },
   "kernels_config": {
    "python": {
     "delete_cmd_postfix": "",
     "delete_cmd_prefix": "del ",
     "library": "var_list.py",
     "varRefreshCmd": "print(var_dic_list())"
    },
    "r": {
     "delete_cmd_postfix": ") ",
     "delete_cmd_prefix": "rm(",
     "library": "var_list.r",
     "varRefreshCmd": "cat(var_dic_list()) "
    }
   },
   "types_to_exclude": [
    "module",
    "function",
    "builtin_function_or_method",
    "instance",
    "_Feature"
   ],
   "window_display": false
  }
 },
 "nbformat": 4,
 "nbformat_minor": 5
}
