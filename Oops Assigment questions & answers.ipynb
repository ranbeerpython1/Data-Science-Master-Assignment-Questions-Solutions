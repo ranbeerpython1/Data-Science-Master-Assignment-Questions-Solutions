{
 "cells": [
  {
   "cell_type": "code",
   "execution_count": 11,
   "id": "851702a7",
   "metadata": {},
   "outputs": [
    {
     "data": {
      "text/plain": [
       "'Q1. Explain Class and Object with respect to Object-Oriented Programming. Give a suitable example'"
      ]
     },
     "execution_count": 11,
     "metadata": {},
     "output_type": "execute_result"
    }
   ],
   "source": [
    "\"\"\"Q1. Explain Class and Object with respect to Object-Oriented Programming. Give a suitable example\"\"\""
   ]
  },
  {
   "cell_type": "code",
   "execution_count": 4,
   "id": "e3943b02",
   "metadata": {},
   "outputs": [
    {
     "data": {
      "text/plain": [
       "'Class and Object are two important concepts in Object-Oriented Programming (OOP).\\n\\nA class is a blueprint for creating objects (a particular data structure), providing initial values for state \\n(member variables or attributes), and implementations of behavior (member functions or methods). \\nThe user-defined objects are created using the class keyword.\\n\\nAn object is an instance of a class. It is a real-world entity that has attributes and methods. \\nObjects are created from a class and can interact with one another to perform a task.\\n'"
      ]
     },
     "execution_count": 4,
     "metadata": {},
     "output_type": "execute_result"
    }
   ],
   "source": [
    "\"\"\"Class and Object are two important concepts in Object-Oriented Programming (OOP).\n",
    "\n",
    "A class is a blueprint for creating objects (a particular data structure), providing initial values for state \n",
    "(member variables or attributes), and implementations of behavior (member functions or methods). \n",
    "The user-defined objects are created using the class keyword.\n",
    "\n",
    "An object is an instance of a class. It is a real-world entity that has attributes and methods. \n",
    "Objects are created from a class and can interact with one another to perform a task.\n",
    "\"\"\""
   ]
  },
  {
   "cell_type": "code",
   "execution_count": 7,
   "id": "4a963e69",
   "metadata": {},
   "outputs": [
    {
     "data": {
      "text/plain": [
       "'For example, consider a class \"Person\" with the attributes name, age, and address. \\n Each person in the real world will have a unique name, age, and address and we can represent these unique details of a\\n person using an object of the class \"Person'"
      ]
     },
     "execution_count": 7,
     "metadata": {},
     "output_type": "execute_result"
    }
   ],
   "source": [
    "\"\"\"For example, consider a class \"Person\" with the attributes name, age, and address. \n",
    " Each person in the real world will have a unique name, age, and address and we can represent these unique details of a\n",
    " person using an object of the class \"Person\"\"\""
   ]
  },
  {
   "cell_type": "code",
   "execution_count": 9,
   "id": "14196fcc",
   "metadata": {},
   "outputs": [
    {
     "name": "stdout",
     "output_type": "stream",
     "text": [
      "Name: monu\n",
      "Age: 25\n",
      "Address: delhi India\n",
      "Name: Jakir\n",
      "Age: 30\n",
      "Address: patna bihar\n"
     ]
    }
   ],
   "source": [
    "class Person:\n",
    "  def __init__(self, name, age, address):\n",
    "    self.name = name\n",
    "    self.age = age\n",
    "    self.address = address\n",
    "  def print_person(self):\n",
    "    print(\"Name:\", self.name)\n",
    "    print(\"Age:\", self.age)\n",
    "    print(\"Address:\", self.address)\n",
    "\n",
    "p1 = Person(\"monu\", 25, \"delhi India\")\n",
    "p2 = Person(\"Jakir\", 30, \"patna bihar\")\n",
    "\n",
    "p1.print_person()\n",
    "p2.print_person()\n"
   ]
  },
  {
   "cell_type": "code",
   "execution_count": 10,
   "id": "2b090a17",
   "metadata": {},
   "outputs": [
    {
     "data": {
      "text/plain": [
       "'Q2. Name the four pillars of OOPs.'"
      ]
     },
     "execution_count": 10,
     "metadata": {},
     "output_type": "execute_result"
    }
   ],
   "source": [
    "\"\"\"Q2. Name the four pillars of OOPs.\"\"\""
   ]
  },
  {
   "cell_type": "code",
   "execution_count": 13,
   "id": "b77e8346",
   "metadata": {},
   "outputs": [
    {
     "data": {
      "text/plain": [
       "'Ans: There are four basic pillars in Object-Oriented Programming (OOP): \\n1. encapsulation, \\n2. abstraction,\\n3. inheritance, \\n4. and polymorphism '"
      ]
     },
     "execution_count": 13,
     "metadata": {},
     "output_type": "execute_result"
    }
   ],
   "source": [
    "\"\"\"Ans: There are four basic pillars in Object-Oriented Programming (OOP): \n",
    "1. encapsulation, \n",
    "2. abstraction,\n",
    "3. inheritance, \n",
    "4. and polymorphism \"\"\""
   ]
  },
  {
   "cell_type": "code",
   "execution_count": 14,
   "id": "236f7b77",
   "metadata": {},
   "outputs": [
    {
     "data": {
      "text/plain": [
       "'Q3. Explain why the __init__() function is used. Give a suitable example.'"
      ]
     },
     "execution_count": 14,
     "metadata": {},
     "output_type": "execute_result"
    }
   ],
   "source": [
    "\"\"\"Q3. Explain why the __init__() function is used. Give a suitable example.\"\"\""
   ]
  },
  {
   "cell_type": "code",
   "execution_count": 18,
   "id": "9495cc30",
   "metadata": {},
   "outputs": [
    {
     "data": {
      "text/plain": [
       "\"The __init__ function in Python is a special method also known as a constructor. \\n It is used to initialize the attributes of an object after it has been created.\\n  It is automatically called when an object of a class is created and provides a way to customize the object's creation.\""
      ]
     },
     "execution_count": 18,
     "metadata": {},
     "output_type": "execute_result"
    }
   ],
   "source": [
    "\"\"\"The __init__ function in Python is a special method also known as a constructor. \n",
    " It is used to initialize the attributes of an object after it has been created.\n",
    "  It is automatically called when an object of a class is created and provides a way to customize the object's creation.\"\"\""
   ]
  },
  {
   "cell_type": "code",
   "execution_count": 17,
   "id": "15b0ce30",
   "metadata": {},
   "outputs": [
    {
     "name": "stdout",
     "output_type": "stream",
     "text": [
      "Employee Name: Rahul\n",
      "Employee Salary: 70000\n",
      "Employee Name: Raman\n",
      "Employee Salary: 75000\n"
     ]
    }
   ],
   "source": [
    "#Here's an example of how the __init__ method can be used in a class:\n",
    "class Employee:\n",
    "    def __init__(self, name, salary):\n",
    "        self.name = name\n",
    "        self.salary = salary\n",
    "        \n",
    "    def display_employee(self):\n",
    "        print(\"Employee Name:\", self.name)\n",
    "        print(\"Employee Salary:\", self.salary)\n",
    "\n",
    "emp1 = Employee(\"Rahul\", 70000)\n",
    "emp2 = Employee(\"Raman\", 75000)\n",
    "\n",
    "emp1.display_employee()\n",
    "emp2.display_employee()"
   ]
  },
  {
   "cell_type": "code",
   "execution_count": 19,
   "id": "f90374bb",
   "metadata": {},
   "outputs": [
    {
     "data": {
      "text/plain": [
       "'Q4. Why self is used in OOPs?'"
      ]
     },
     "execution_count": 19,
     "metadata": {},
     "output_type": "execute_result"
    }
   ],
   "source": [
    "\"\"\"Q4. Why self is used in OOPs?\"\"\""
   ]
  },
  {
   "cell_type": "code",
   "execution_count": 21,
   "id": "bd241019",
   "metadata": {},
   "outputs": [
    {
     "data": {
      "text/plain": [
       "'In Object-Oriented Programming (OOP), self is a special keyword used in class methods to refer to the instance or object that is calling the method. \\n It allows the method to access or modify the attributes and properties of the instance.\\n\\n In Python, the use of self is optional, but it is a convention to include it as the first argument in a class method. \\n By convention, the name self is used, but you can use any other name as long as you are consistent throughout the class.'"
      ]
     },
     "execution_count": 21,
     "metadata": {},
     "output_type": "execute_result"
    }
   ],
   "source": [
    "\"\"\"In Object-Oriented Programming (OOP), self is a special keyword used in class methods to refer to the instance or object that is calling the method. \n",
    " It allows the method to access or modify the attributes and properties of the instance.\n",
    "\n",
    " In Python, the use of self is optional, but it is a convention to include it as the first argument in a class method. \n",
    " By convention, the name self is used, but you can use any other name as long as you are consistent throughout the class.\"\"\""
   ]
  },
  {
   "cell_type": "code",
   "execution_count": 23,
   "id": "7ca653a6",
   "metadata": {},
   "outputs": [
    {
     "name": "stdout",
     "output_type": "stream",
     "text": [
      "The car is a Toyota Camry.\n"
     ]
    }
   ],
   "source": [
    "#Example:\n",
    "class Car:\n",
    "    def __init__(self, make, model):\n",
    "        self.make = make\n",
    "        self.model = model\n",
    "\n",
    "    def display(self):\n",
    "        print(f\"The car is a {self.make} {self.model}.\")\n",
    "\n",
    "my_car = Car(\"Toyota\", \"Camry\")\n",
    "my_car.display()\n",
    "\n",
    "\n",
    "   "
   ]
  },
  {
   "cell_type": "code",
   "execution_count": 25,
   "id": "10a75c34",
   "metadata": {},
   "outputs": [
    {
     "data": {
      "text/plain": [
       "'In the above example, self is used to refer to the Car instance my_car in the display method.\\nThe display method is able to access the make and model attributes of my_car because self refers to my_car.'"
      ]
     },
     "execution_count": 25,
     "metadata": {},
     "output_type": "execute_result"
    }
   ],
   "source": [
    "'''In the above example, self is used to refer to the Car instance my_car in the display method.\n",
    "The display method is able to access the make and model attributes of my_car because self refers to my_car.'''"
   ]
  },
  {
   "cell_type": "code",
   "execution_count": 26,
   "id": "7b615d59",
   "metadata": {},
   "outputs": [
    {
     "data": {
      "text/plain": [
       "'Q5. What is inheritance? Give an example for each type of inheritance.'"
      ]
     },
     "execution_count": 26,
     "metadata": {},
     "output_type": "execute_result"
    }
   ],
   "source": [
    "\"\"\"Q5. What is inheritance? Give an example for each type of inheritance.\"\"\""
   ]
  },
  {
   "cell_type": "code",
   "execution_count": 27,
   "id": "be105c2a",
   "metadata": {},
   "outputs": [
    {
     "data": {
      "text/plain": [
       "'Inheritance is a mechanism in object-oriented programming that allows a new class to be derived from an existing class. \\nThe new class inherits the attributes and behaviors of the existing class, and can add new attributes or override existing behaviors as needed. \\nThis helps to reduce code duplication and increase the modularity of the code.'"
      ]
     },
     "execution_count": 27,
     "metadata": {},
     "output_type": "execute_result"
    }
   ],
   "source": [
    "'''Inheritance is a mechanism in object-oriented programming that allows a new class to be derived from an existing class. \n",
    "The new class inherits the attributes and behaviors of the existing class, and can add new attributes or override existing behaviors as needed. \n",
    "This helps to reduce code duplication and increase the modularity of the code.'''"
   ]
  },
  {
   "cell_type": "code",
   "execution_count": 28,
   "id": "c6f60a3f",
   "metadata": {},
   "outputs": [
    {
     "data": {
      "text/plain": [
       "\"'There are several types of inheritance in object-oriented programming, including:'\""
      ]
     },
     "execution_count": 28,
     "metadata": {},
     "output_type": "execute_result"
    }
   ],
   "source": [
    "\"'There are several types of inheritance in object-oriented programming, including:'\""
   ]
  },
  {
   "cell_type": "code",
   "execution_count": 31,
   "id": "d7473e32",
   "metadata": {},
   "outputs": [
    {
     "data": {
      "text/plain": [
       "'1. Single inheritance: A single derived class is created from a single base class. \\nThis is the simplest form of inheritance and is the most common use case. \\n    '"
      ]
     },
     "execution_count": 31,
     "metadata": {},
     "output_type": "execute_result"
    }
   ],
   "source": [
    "'''1. Single inheritance: A single derived class is created from a single base class. \n",
    "This is the simplest form of inheritance and is the most common use case. \n",
    "    '''"
   ]
  },
  {
   "cell_type": "code",
   "execution_count": 34,
   "id": "f1ebdd0a",
   "metadata": {},
   "outputs": [
    {
     "data": {
      "text/plain": [
       "'For example, if we have a class \"Animal\" and we want to create a class \"Dog\" that inherits the properties of \"Animal\",\\nwe can create the class \"Dog\" as a subclass of \"Animal'"
      ]
     },
     "execution_count": 34,
     "metadata": {},
     "output_type": "execute_result"
    }
   ],
   "source": [
    "'''For example, if we have a class \"Animal\" and we want to create a class \"Dog\" that inherits the properties of \"Animal\",\n",
    "we can create the class \"Dog\" as a subclass of \"Animal'''"
   ]
  },
  {
   "cell_type": "code",
   "execution_count": 42,
   "id": "95a35b8c",
   "metadata": {},
   "outputs": [
    {
     "data": {
      "text/plain": [
       "'2. Multiple inheritance: A single derived class is created from multiple base classes. This type of inheritance allows a class to inherit from more than one base class. \\n\\nFor example, if we have two classes \"Person\" and \"Vehicle\" and we want to create a class \"Driver\" that inherits the properties of both \"Person\" and \"Vehicle\", we can create the class \"Driver\" as a subclass of both \"Person\" and \"Vehicle.'"
      ]
     },
     "execution_count": 42,
     "metadata": {},
     "output_type": "execute_result"
    }
   ],
   "source": [
    "'''2. Multiple inheritance: A single derived class is created from multiple base classes. This type of inheritance allows a class to inherit from more than one base class. \n",
    "\n",
    "For example, if we have two classes \"Person\" and \"Vehicle\" and we want to create a class \"Driver\" that inherits the properties of both \"Person\" and \"Vehicle\", we can create the class \"Driver\" as a subclass of both \"Person\" and \"Vehicle.'''"
   ]
  },
  {
   "cell_type": "code",
   "execution_count": 43,
   "id": "617d1af2",
   "metadata": {},
   "outputs": [
    {
     "data": {
      "text/plain": [
       "'3. Multi-level inheritance: A derived class is created from another derived class. \\nThis type of inheritance allows the inheritance of properties to be passed down multiple levels.\\n\\nFor example, if we have a class \"Animal\" and a derived class \"Dog\", and we want to create a class \"Poodle\" that inherits the properties of \"Dog\", we can create the class \"Poodle\" as a subclass of \"Dog\".\\n'"
      ]
     },
     "execution_count": 43,
     "metadata": {},
     "output_type": "execute_result"
    }
   ],
   "source": [
    "'''3. Multi-level inheritance: A derived class is created from another derived class. \n",
    "This type of inheritance allows the inheritance of properties to be passed down multiple levels.\n",
    "\n",
    "For example, if we have a class \"Animal\" and a derived class \"Dog\", and we want to create a class \"Poodle\" that inherits the properties of \"Dog\", we can create the class \"Poodle\" as a subclass of \"Dog\".\n",
    "'''"
   ]
  },
  {
   "cell_type": "code",
   "execution_count": 46,
   "id": "2d8791db",
   "metadata": {},
   "outputs": [
    {
     "data": {
      "text/plain": [
       "'4. Hierarchical inheritance: Multiple derived classes are created from a single base class. \\n This type of inheritance allows multiple classes to inherit from a single base class, creating a hierarchy of classes. \\n\\nFor example, if we have a class \"Animal\" and we want to create classes \"Cat\" and \"Dog\" that both inherit the properties of \"Animal\", we can create the classes \"Cat\" and \"Dog\" as subclasses of \"Animal.'"
      ]
     },
     "execution_count": 46,
     "metadata": {},
     "output_type": "execute_result"
    }
   ],
   "source": [
    "'''4. Hierarchical inheritance: Multiple derived classes are created from a single base class. \n",
    " This type of inheritance allows multiple classes to inherit from a single base class, creating a hierarchy of classes. \n",
    "\n",
    "For example, if we have a class \"Animal\" and we want to create classes \"Cat\" and \"Dog\" that both inherit the properties of \"Animal\", we can create the classes \"Cat\" and \"Dog\" as subclasses of \"Animal.'''"
   ]
  },
  {
   "cell_type": "code",
   "execution_count": null,
   "id": "dc5ecfb5",
   "metadata": {},
   "outputs": [],
   "source": []
  },
  {
   "cell_type": "code",
   "execution_count": null,
   "id": "ae2f543a",
   "metadata": {},
   "outputs": [],
   "source": []
  }
 ],
 "metadata": {
  "kernelspec": {
   "display_name": "Python 3 (ipykernel)",
   "language": "python",
   "name": "python3"
  },
  "language_info": {
   "codemirror_mode": {
    "name": "ipython",
    "version": 3
   },
   "file_extension": ".py",
   "mimetype": "text/x-python",
   "name": "python",
   "nbconvert_exporter": "python",
   "pygments_lexer": "ipython3",
   "version": "3.9.13"
  },
  "varInspector": {
   "cols": {
    "lenName": 16,
    "lenType": 16,
    "lenVar": 40
   },
   "kernels_config": {
    "python": {
     "delete_cmd_postfix": "",
     "delete_cmd_prefix": "del ",
     "library": "var_list.py",
     "varRefreshCmd": "print(var_dic_list())"
    },
    "r": {
     "delete_cmd_postfix": ") ",
     "delete_cmd_prefix": "rm(",
     "library": "var_list.r",
     "varRefreshCmd": "cat(var_dic_list()) "
    }
   },
   "types_to_exclude": [
    "module",
    "function",
    "builtin_function_or_method",
    "instance",
    "_Feature"
   ],
   "window_display": false
  }
 },
 "nbformat": 4,
 "nbformat_minor": 5
}
